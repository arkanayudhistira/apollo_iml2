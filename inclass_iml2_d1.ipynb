{
 "cells": [
  {
   "cell_type": "markdown",
   "metadata": {},
   "source": [
    "<div style=\"padding: 60px;\n",
    "  text-align: center;\n",
    "  background: #d4afb9;\n",
    "  color: #003049;\n",
    "  font-size: 20px;\">\n",
    "  <h2>Inclass: Introduction to Machine Learning 2</h2>\n",
    "   <hr>\n",
    "</div>\n",
    "\n",
    "\n",
    "- **This notebook based on main material**\n",
    "- **Course Length**: 9 hours\n",
    "- **Instructor** : Dwi Gustin Nurdialit\n",
    "- **Last Updated**: January 2025"
   ]
  },
  {
   "cell_type": "markdown",
   "metadata": {},
   "source": [
    "# Background\n",
    "\n",
    "The coursebook is part of the **Python Machine Learning** prepared by [Algoritma](https://algorit.ma/). The coursebook is intended for a restricted audience only, i.e. the individuals and organizations having received this coursebook directly from the training organization. It may not be reproduced, distributed, translated or adapted in any form outside these individuals and organizations without permission.\n",
    "\n",
    "Algoritma is a data science education center based in Jakarta. We organize workshops and training programs to help working professionals and students gain mastery in various data science sub-fields: data visualization, machine learning, data modeling, statistical inference etc."
   ]
  },
  {
   "cell_type": "markdown",
   "metadata": {},
   "source": [
    "# Introduction to Machine Learning 2\n",
    "## Training Objectives\n",
    "\n",
    "- **Working with Time Series**\n",
    "  - Data Preprocessing\n",
    "  - Visualization: Multiple vs Multivariate Time Series\n",
    "- **Modeling using `fbprophet`**\n",
    "  - Baseline Model\n",
    "  - Trend Component\n",
    "  - Seasonality Component\n",
    "  - Holiday Effects\n",
    "- **Forecasting Evaluation**\n",
    "  - Train-Test Split\n",
    "  - Evaluation Metrics: MAPE\n",
    "- **Hyperparameter Tuning**"
   ]
  },
  {
   "cell_type": "markdown",
   "metadata": {},
   "source": [
    "![mindmap](assets/IML2.png)"
   ]
  },
  {
   "cell_type": "code",
   "execution_count": null,
   "metadata": {},
   "outputs": [],
   "source": [
    "# load the library\n",
    "# %pip install prophet\n",
    "\n",
    "from prophet import Prophet\n",
    "import cmdstanpy\n",
    "\n",
    "# import library\n",
    "import pandas as pd"
   ]
  },
  {
   "cell_type": "markdown",
   "metadata": {},
   "source": [
    "\n",
    "\n",
    "<div style=\"padding: 60px;\n",
    "  text-align: center;\n",
    "  background: #d4afb9;\n",
    "  color: #003049;\n",
    "  font-size: 20px;\">\n",
    "  <h2>Time Series Forecasting using Prophet</h2>\n",
    "   <hr>\n",
    "</div>\n",
    "\n",
    "\n"
   ]
  },
  {
   "cell_type": "markdown",
   "metadata": {},
   "source": [
    "**🔎 Forecasting**\n",
    "\n",
    "<br>\n",
    "\n",
    "<details>\n",
    "    <summary><b>🔻 1. Definisi: </b></summary>\n",
    "    <br>Memprediksi nilai masa depan berdasarkan data historis yang ada.\n",
    "    \n",
    "</details>\n",
    "<br>\n",
    "\n",
    "<details>\n",
    "    <summary><b>🔻 2. Data historis: </b></summary>\n",
    "    <br>Data historis digunakan untuk mengidentifikasi pola, tren, dan fluktuasi dalam data\n",
    "    \n",
    "</details>"
   ]
  },
  {
   "cell_type": "markdown",
   "metadata": {},
   "source": [
    "### Regression vs Forecasting\n"
   ]
  },
  {
   "cell_type": "markdown",
   "metadata": {},
   "source": [
    "![regression_vs_forecasting.png](assets/regression_vs_forecasting.png)"
   ]
  },
  {
   "cell_type": "markdown",
   "metadata": {},
   "source": [
    "| **Karakteristik** | **Regresi**                              | **Peramalan/Forecasting**                      |\n",
    "|-------------------|------------------------------------------|------------------------------------|\n",
    "| **Tujuan Utama**  | Menemukan hubungan antara variabel dependen dan independen.       | Meramalkan nilai masa depan berdasarkan data historis.        |\n",
    "| **Variabel**      | Terdapat variabel dependen (Y) dan variabel independen (X1, X2, ...)          | Mungkin hanya satu variabel dependen (misalnya, penjualan)        |\n",
    "| **Fungsi**        | Memprediksi nilai Y berdasarkan nilai-nilai X.          | Memprediksi nilai masa depan Y berdasarkan data masa lalu.     |\n",
    "| **Hubungan**      | Menunjukkan hubungan linear atau         | Fokus pada tren, musiman, dan      |\n",
    "|                   | non-linear antara variabel.              | faktor lain yang memengaruhi.     |\n",
    "\n",
    "\n",
    "📌 Perlu diingat bahwa sementara regresi biasanya digunakan untuk **menganalisis hubungan antara variabel-variabel** yang ada, peramalan lebih fokus pada **meramalkan nilai masa depan berdasarkan data masa lalu**, terutama dalam konteks data berulang seperti time series."
   ]
  },
  {
   "cell_type": "markdown",
   "metadata": {},
   "source": [
    "### Time Series\n",
    "\n",
    "**Data Harga Tiket Pesawat Maskapai A**\n",
    "\n",
    "| Tanggal    | Harga Tiket (Rupiah) |\n",
    "|------------|----------------------|\n",
    "| 2023-01-01 | 1200000              |\n",
    "| 2023-02-01 | 1250000              |\n",
    "| 2023-03-01 | 1300000              |\n",
    "| 2023-04-01 | 1350000              |\n",
    "| 2023-05-01 | 1400000              |\n",
    "| 2023-06-01 | 1450000              |\n",
    "| 2023-07-01 | 1500000              |\n",
    "| ...        | ...                  |\n",
    "\n",
    "Data time series adalah jenis data yang mencakup pengamatan yang diambil pada waktu yang berurutan atau berkesinambungan. Data ini memiliki karakteristik tertentu yang membedakan dari data lain.\n",
    "\n",
    "1. **Pengukuran Waktu:** Data time series mencakup pengukuran atau pengamatan yang dilakukan pada titik-titik waktu tertentu. Ini bisa dalam rentang waktu harian, mingguan, bulanan, atau bahkan lebih jarang atau lebih sering tergantung pada sifat data.\n",
    "\n",
    "2. **Urutan Temporal:** Data time series memiliki urutan temporal yang jelas, interval waktu yang konsisten dan sering kali memiliki interval yang tetap, artinya pengukuran dilakukan secara berurutan dalam waktu.\n",
    "\n",
    "3. **Dependen pada Waktu:** Variabel dalam data time series bergantung pada waktu. Artinya, nilai variabel dependen pada waktu tertentu bisa dipengaruhi oleh nilai variabel pada waktu sebelumnya.\n",
    "\n",
    "4. **Polanya bisa Berulang:** Data time series sering kali menunjukkan pola atau siklus tertentu yang berulang dari waktu ke waktu. Ini dapat mencakup tren, musiman, atau perubahan periodik lainnya.\n",
    "\n",
    "5. **Komponen-Komponen Utama:** Data time series sering dibagi menjadi tiga komponen utama: tren, musiman, dan komponen beracak (random). Tren adalah perubahan umum dalam data seiring waktu, musiman adalah fluktuasi yang berulang dalam jangka waktu yang pendek, dan komponen beracak adalah fluktuasi acak yang tidak dapat dijelaskan oleh tren atau musiman.\n",
    "\n",
    "6. **Data yang Dapat Diberi Label:** Setiap titik data dalam time series biasanya memiliki label waktu yang jelas, yang dapat berupa tanggal, waktu, atau indeks waktu lainnya.\n",
    "\n"
   ]
  },
  {
   "cell_type": "markdown",
   "metadata": {},
   "source": [
    "<div style=\"padding: 30px;\n",
    "  background: #d4afb9;\n",
    "  color: #003049;\">\n",
    "  \n",
    "# Working with Time Series Data\n",
    "</div>"
   ]
  },
  {
   "cell_type": "markdown",
   "metadata": {},
   "source": [
    "## Import Data\n",
    "\n",
    "<div class=\"alert\">\n",
    "\n",
    "📍 **Dataset** : Data time series penjualan harian dari perusahaan perangkat lunak terbesar di Rusia bernama **1C Company** dari [Kaggle](https://www.kaggle.com/c/competitive-data-science-predict-future-sales/overview)\n",
    "\n",
    "> - Data mencakup beberapa tahun dan berisi tentang informasi penjualan harian berbagai produk perangkat lunak di berbagai toko\n",
    "\n",
    "📍 **Business Problem** : Melakukan explorasi dan analisis dari data time series\n",
    "</div> \n",
    "\n",
    "\n",
    "\n"
   ]
  },
  {
   "cell_type": "code",
   "execution_count": null,
   "metadata": {
    "ExecuteTime": {
     "end_time": "2023-05-03T06:02:20.476662Z",
     "start_time": "2023-05-03T06:02:19.070298Z"
    },
    "scrolled": true
   },
   "outputs": [],
   "source": [
    "sales = "
   ]
  },
  {
   "cell_type": "code",
   "execution_count": null,
   "metadata": {},
   "outputs": [],
   "source": []
  },
  {
   "cell_type": "markdown",
   "metadata": {},
   "source": [
    "<div class=\"alert\">\n",
    "\n",
    "Berikut adalah deskripsi data:\n",
    "- Data ini terdiri dari 2.935.849 observasi (baris).\n",
    "- Berikut adalah glosarium yang disediakan di platform Kaggle:\n",
    "  - `date` adalah format tanggal yang diberikan dalam format **dd.mm.yyyy**.\n",
    "  - `date_block_num` adalah nomor bulan berturut-turut yang digunakan untuk kemudahan (Januari 2013 adalah 0, Februari 2013 adalah 1, dan seterusnya).\n",
    "  - `shop_id` adalah pengenal unik dari toko.\n",
    "  - `shop_name` adalah nama toko.\n",
    "  - `item_id` adalah pengenal unik dari produk.\n",
    "  - `item_price` adalah harga produk pada tanggal tertentu.\n",
    "  - `item_cnt_day` adalah jumlah produk yang terjual pada tanggal tertentu.\n",
    "\n",
    "</div> "
   ]
  },
  {
   "cell_type": "markdown",
   "metadata": {},
   "source": [
    "## Exploratory Data Analysis (EDA)"
   ]
  },
  {
   "cell_type": "markdown",
   "metadata": {},
   "source": [
    "Data transaksi harian: **disetiap harinya** memiliki informasi tentang jumlah item yang terjual dan pendapatan yang dihasilkan oleh **setiap toko**\n",
    "\n",
    "|   date     | date_block_num | shop_id |          shop_name           | item_id | item_price | item_cnt_day |\n",
    "|------------|----------------|---------|-----------------------------|---------|------------|--------------|\n",
    "| 02.01.2013 |       0        |    59   | Yaroslavl shopping center \"Altair\" |  22154  |   999.0    |     1.0      |\n",
    "| 10.01.2013 |       0        |    59   | Yaroslavl shopping center \"Altair\" |  22151  |   399.0    |     1.0     \n",
    "| ...        |     ...        |    ...  |          ...                       |  ...    |   ...      |     ...     \n",
    "| 21.10.2015 |       0        |    59   | Yaroslavl shopping center \"Altair\" |   5039  |   1,499.0  |     1.0     \n",
    "| 19.01.2013 |       0        |    25   | Moscow TRK \"Atrium\" |   2552  |   899.0\t   |     1.0      |\n",
    "| ...        |     ...        |    ...  |          ...                       |  ...    |   ...      |     ...     \n",
    "| 03.010.2015 |       0        |    59   | Moscow TRK \"Atrium\" |   7460  |  299.0\t1.0   |     1.0      |\n",
    "| ...        |     ...        |    ...  |          ...                       |  ...    |   ...      |     ...  \n",
    "\n",
    "\n",
    "❗️ Mari kita check, ada berapa toko pada data ini:"
   ]
  },
  {
   "cell_type": "code",
   "execution_count": null,
   "metadata": {
    "ExecuteTime": {
     "end_time": "2023-05-03T06:02:20.520721Z",
     "start_time": "2023-05-03T06:02:20.493637Z"
    }
   },
   "outputs": [],
   "source": [
    "# code here\n"
   ]
  },
  {
   "cell_type": "markdown",
   "metadata": {},
   "source": [
    "### Data Types\n",
    "\n",
    "🔻 Hal yang paling penting untuk menganalisis data time series adalah perlu kita prepare untuk mengubah tipe data.\n",
    "\n",
    "❓ Silahkan check tipe data pada object `sales`"
   ]
  },
  {
   "cell_type": "code",
   "execution_count": null,
   "metadata": {
    "ExecuteTime": {
     "end_time": "2023-05-03T06:02:20.652073Z",
     "start_time": "2023-05-03T06:02:20.646292Z"
    },
    "scrolled": true
   },
   "outputs": [],
   "source": []
  },
  {
   "cell_type": "markdown",
   "metadata": {},
   "source": [
    ">❓ Adakah kolom yang tipe datanya belum sesuai?\n",
    ">> - ...\n",
    ">> - ..."
   ]
  },
  {
   "cell_type": "code",
   "execution_count": null,
   "metadata": {
    "ExecuteTime": {
     "end_time": "2023-05-03T06:02:21.034548Z",
     "start_time": "2023-05-03T06:02:20.659556Z"
    }
   },
   "outputs": [],
   "source": [
    "# to datetime\n",
    "\n",
    "# to category\n"
   ]
  },
  {
   "cell_type": "markdown",
   "metadata": {},
   "source": [
    "\n",
    "## Data Preparation\n",
    "\n",
    "🔎 Data time series merupakan data yang dikumpulkan pada interval **waktu yang teratur**. Dalam kasus ini kita ingin menganalisis tentang **total penjualan** perangkat lunak yang dikumpulkan **setiap hari**.\n",
    "\n",
    "\n",
    "<div class=\"alert\">\n",
    "\n",
    "Beberapa hal yang perlu kita persiapkan sebelum membuat model:\n",
    "\n",
    "- [✅] Mengkonversi kolom `date` menjadi `datetime64`\n",
    "- [  ] Mengurutkan data secara ascending berdasarkan waktu\n",
    "- [  ] Pada kasus ini, membuat kolom baru yaitu `total_revenue`, yang akan diprediksi\n",
    "\n",
    "</div>"
   ]
  },
  {
   "cell_type": "code",
   "execution_count": null,
   "metadata": {
    "ExecuteTime": {
     "end_time": "2023-05-03T06:02:21.042096Z",
     "start_time": "2023-05-03T06:02:21.036938Z"
    }
   },
   "outputs": [],
   "source": [
    "sales.dtypes"
   ]
  },
  {
   "cell_type": "markdown",
   "metadata": {},
   "source": [
    "❗️ Mengurutkan data secara ascending berdasarkan waktu"
   ]
  },
  {
   "cell_type": "code",
   "execution_count": null,
   "metadata": {},
   "outputs": [],
   "source": []
  },
  {
   "cell_type": "markdown",
   "metadata": {},
   "source": [
    "❗️ Membuat kolom baru yaitu `total_revenue`, yang akan diprediksi\n",
    "> `item_price * item_cnt_day`"
   ]
  },
  {
   "cell_type": "code",
   "execution_count": null,
   "metadata": {
    "ExecuteTime": {
     "end_time": "2023-05-03T06:02:21.435780Z",
     "start_time": "2023-05-03T06:02:21.044284Z"
    }
   },
   "outputs": [],
   "source": [
    "# code here\n"
   ]
  },
  {
   "cell_type": "code",
   "execution_count": null,
   "metadata": {},
   "outputs": [],
   "source": []
  },
  {
   "cell_type": "markdown",
   "metadata": {},
   "source": [
    "💬 Untuk pembuatan model, kita tidak akan menggunakan semua data penjualan dari beberapa toko, melainkan kita akan mengambil berdasarkan toko yang paling **popular** berdasarkan **sales**nya."
   ]
  },
  {
   "cell_type": "markdown",
   "metadata": {},
   "source": [
    "❓ 3 toko mana yang paling popular?"
   ]
  },
  {
   "cell_type": "code",
   "execution_count": null,
   "metadata": {
    "ExecuteTime": {
     "end_time": "2023-05-03T06:02:21.539583Z",
     "start_time": "2023-05-03T06:02:21.511732Z"
    }
   },
   "outputs": [],
   "source": [
    "top_3_shop = \n",
    "top_3_shop"
   ]
  },
  {
   "cell_type": "markdown",
   "metadata": {},
   "source": [
    "❗️ Sediakan data untuk top 3 shop saja"
   ]
  },
  {
   "cell_type": "code",
   "execution_count": null,
   "metadata": {
    "ExecuteTime": {
     "end_time": "2023-05-03T06:02:21.789169Z",
     "start_time": "2023-05-03T06:02:21.741830Z"
    }
   },
   "outputs": [],
   "source": [
    "sales_top_3_shop = \n"
   ]
  },
  {
   "cell_type": "markdown",
   "metadata": {},
   "source": [
    "<div class=\"alert\">\n",
    "\n",
    "**📌 Additional Information:** \n",
    "\n",
    "Metode `isin()` digunakan untuk memeriksa apakah `shop_id` dari setiap baris dalam DataFrame `sales` termasuk salah satu dari tiga toko paling populer. Jika kondisinya **`True`**, baris tersebut akan dimasukkan ke dalam DataFrame baru bernama `sales_top_3_shop`.\n",
    "\n",
    "\n",
    "</div>"
   ]
  },
  {
   "cell_type": "code",
   "execution_count": null,
   "metadata": {},
   "outputs": [],
   "source": [
    "sales_top_3_shop.head()"
   ]
  },
  {
   "cell_type": "markdown",
   "metadata": {},
   "source": [
    "❓ Apakah datanya sudah siap?\n",
    "\n",
    "\n",
    "<div class=\"alert alert-danger\">\n",
    "  <details>\n",
    "    <summary><b>💬 Ingat Kembali: Karakteristik data time series </b></summary><br><center> \n",
    "    Data time series mencatat pengukuran pada interval waktu yang konsisten dan harus memiliki interval yang tetap, seperti harian, mingguan, bulanan, atau bahkan interval yang lebih pendek seperti per jam atau per menit.</center>\n",
    "    \n",
    "</details>\n",
    "</div> \n",
    "\n"
   ]
  },
  {
   "cell_type": "markdown",
   "metadata": {},
   "source": [
    "❗️ Ubah data tersebut menjadi data yang diinginkan\n",
    "\n",
    "\n",
    "|     date    | shop_id | total_qty |     total_revenue    |\n",
    "|:-----------:|:-------:|:---------:|:--------------------:|\n",
    "|  2013-01-01 |   54    |   415.0   | 316,556.999999999    |\n",
    "|  2013-01-02 |   25    |   568.0   | 345,174.130000001    |\n",
    "|  2013-01-02 |   31    |   568.0   | 396,376.09999999497  |\n",
    "|  2013-01-02 |   54    |   709.0   | 519,335.999999981    |\n",
    "|  2013-01-03 |   25    |   375.0   | 249,421.0            |\n",
    "| ...         |  ...    |   ...     |  ...                 |\n"
   ]
  },
  {
   "cell_type": "code",
   "execution_count": null,
   "metadata": {
    "ExecuteTime": {
     "end_time": "2023-05-03T06:02:21.873289Z",
     "start_time": "2023-05-03T06:02:21.791428Z"
    }
   },
   "outputs": [],
   "source": [
    "daily_sales = "
   ]
  },
  {
   "cell_type": "markdown",
   "metadata": {},
   "source": [
    "### Visualization: Multiple vs Multivariate Time Series\n",
    "\n",
    "Salah satu aspek penting dalam analisis data time series adalah melakukan visualisasi. Dari visualisasi dilakukan dengan tujuan untuk:\n",
    "\n",
    "- Memahami pola\n",
    "- Identifikasi anomali\n",
    "- Perbandingan data\n",
    "- Pemilihan model\n",
    "- dll\n",
    "\n",
    "💬 Pada data `daily_sales`, kita dapat memvisualisasikan menjadi 2 bentuk: multiple dan multivariate.\n",
    "\n",
    "Berikut adalah perbandingan visualisasi data time series multiple dan multivariate dalam bentuk tabel:\n",
    "\n",
    "| **Karakteristik**                   | **Data Time Series Multiple**                 | **Data Time Series Multivariate**         |\n",
    "|-------------------------------------|----------------------------------------------|------------------------------------------|\n",
    "| **Definisi**                        | Beberapa seri waktu dalam satu grafik.       | Beberapa variabel (bukan hanya waktu) diplot seiring waktu. |\n",
    "| **Contoh**                          | Grafik yang menampilkan penjualan harian untuk beberapa produk dalam satu toko. | Grafik yang menampilkan penjualan harian (seri waktu) dan harga saham (variabel lain) selama beberapa bulan. |\n",
    "| **Tujuan**                          | Membandingkan pola dan tren dalam beberapa seri waktu. | Memahami hubungan antara variabel-variabel yang berubah seiring waktu dan mengidentifikasi interaksi antara variabel-variabel tersebut. |\n",
    "\n",
    "<div class=\"alert alert-success\">\n",
    "\n",
    "📝 Perbedaan utama adalah bahwa visualisasi data time series **multiple fokus pada beberapa seri waktu dalam satu grafik**, sedangkan visualisasi data time series **multivariate melibatkan pengamatan seiring waktu pada beberapa variabel yang diplot bersama**. Kedua jenis visualisasi digunakan tergantung pada analisis yang diinginkan dan jenis data yang Anda miliki.\n",
    "</div>"
   ]
  },
  {
   "cell_type": "code",
   "execution_count": null,
   "metadata": {
    "ExecuteTime": {
     "end_time": "2023-05-03T06:02:23.141097Z",
     "start_time": "2023-05-03T06:02:21.875618Z"
    }
   },
   "outputs": [],
   "source": [
    "# data visualization library\n",
    "import matplotlib.pyplot as plt\n",
    "import seaborn as sns"
   ]
  },
  {
   "cell_type": "markdown",
   "metadata": {},
   "source": [
    "#### Multiple Time Series\n",
    "\n",
    "❗️ Membuat visualisasi yang menggambarkan `total_qty` penjualan dari top 3 shop:"
   ]
  },
  {
   "cell_type": "code",
   "execution_count": null,
   "metadata": {
    "ExecuteTime": {
     "end_time": "2023-05-03T06:02:24.029313Z",
     "start_time": "2023-05-03T06:02:23.143295Z"
    }
   },
   "outputs": [],
   "source": [
    "sns.relplot(data=daily_sales, kind='line',\n",
    "            x='date', y='total_qty', col='shop_id', aspect=1.5)\n",
    "plt.show()"
   ]
  },
  {
   "cell_type": "markdown",
   "metadata": {},
   "source": [
    "\n",
    "📈 Dengan melihat visualisasi tersebut kita mendapatkan:\n",
    "\n",
    "**1. Bagaimana pola penjualannya?**\n",
    "> ......\n",
    "\n",
    "**2. Bagaimana tren tiap toko?**\n",
    "> ......\n",
    "\n",
    "**3. Bagaimana fluktuasinya?**\n",
    "> ......\n"
   ]
  },
  {
   "cell_type": "markdown",
   "metadata": {},
   "source": [
    "#### Multivariate Time Series\n",
    "\n",
    "💬 Mengamati hubungan antara jumlah total penjualan (`total_qty`) dan total pendapatan (`total_revenue`) di salah satu toko."
   ]
  },
  {
   "cell_type": "markdown",
   "metadata": {},
   "source": [
    "❗️ Memisahkan untuk data `shop_id = 31`"
   ]
  },
  {
   "cell_type": "code",
   "execution_count": null,
   "metadata": {
    "ExecuteTime": {
     "end_time": "2023-05-03T06:02:24.036705Z",
     "start_time": "2023-05-03T06:02:24.032087Z"
    }
   },
   "outputs": [],
   "source": [
    "daily_sales_31 = "
   ]
  },
  {
   "cell_type": "markdown",
   "metadata": {},
   "source": [
    "Create visualization :"
   ]
  },
  {
   "cell_type": "code",
   "execution_count": null,
   "metadata": {
    "ExecuteTime": {
     "end_time": "2023-05-03T06:02:24.563750Z",
     "start_time": "2023-05-03T06:02:24.039037Z"
    }
   },
   "outputs": [],
   "source": [
    "daily_sales_31.set_index('date')[['total_qty', 'total_revenue']].plot(subplots=True,figsize=(10, 5))\n",
    "plt.suptitle('DAILY SOFTWARE SALES: STORE 31')\n",
    "plt.show()"
   ]
  },
  {
   "cell_type": "markdown",
   "metadata": {},
   "source": [
    "📈 Dengan melihat visualisasi tersebut kita mendapatkan:\n",
    "\n",
    "**1. Bagaimana fluktuasinya?**\n",
    ">  ......\n",
    "\n",
    "**2. Bagaimana hubungan antar variabelnya??**\n",
    "> ......\n",
    "\n"
   ]
  },
  {
   "cell_type": "markdown",
   "metadata": {},
   "source": [
    "<hr>\n",
    "\n",
    "<div class=\"alert alert-danger\">\n",
    "  <center><b>Analisis Lebih Lanjut❗️</b><br><hr>\n",
    "    Visualisasi hanyalah langkah awal. <br> Selanjutnya, lakukan analisis lebih lanjut untuk mengonfirmasi temuan dari visualisasi, seperti pemodelan data yang lebih canggih.</center>\n",
    "</div> "
   ]
  },
  {
   "cell_type": "markdown",
   "metadata": {},
   "source": [
    "## Modeling using `prophet`\n",
    "\n",
    "<div class=\"alert\">\n",
    "\n",
    "**Kebutuhan Forecasting**\n",
    "> Pemodelan data time series adalah komponen penting dalam analisis data, terutama dalam membuat keputusan berdasarkan data. Kemampuan untuk memprediksi tren masa depan sangat diperlukan dalam berbagai industri, seperti keuangan, perawatan kesehatan, dan e-commerce. Kemampuan untuk memprediksi tren penjualan adalah kunci untuk mengoptimalkan persediaan, meningkatkan strategi harga, dan akhirnya meningkatkan pendapatan.\n",
    "\n",
    "**Tujuan Pemodelan**\n",
    "> Pemodelan data time series bertujuan untuk memprediksi nilai-nilai masa depan berdasarkan pola dan tren dalam data historis.\n",
    "\n",
    "**General Additive Model (GAM)**\n",
    "> Salah satu kemajuan terbaru dalam pemodelan data time series yang memandang time series sebagai hasil penjumlahan dari komponennya: \n",
    ">> $Y(t) = T(t) + S(t) + E(t)$\n",
    "> - **Trend (T)**: Pergerakan jangka panjang dalam nilai rata-ratanya.\n",
    "> - **Seasonality (S)**: Efek musiman berulang.\n",
    "> - **Residuals (E)**: Komponen tak teratur atau fluktuasi acak yang tidak dijelaskan oleh tren dan musiman.\n",
    "\n",
    "**`prophet`**\n",
    "> - Dikembangkan oleh facebook untuk membuat pemodelan data time series lebih mudah diakses oleh non ekspert.\n",
    "> - Pendekatan yang sederhana sehingga mudah dipahami dan cocok untuk pemula\n",
    "> - `prophet` memanfaatkan GAM yang menambahkan efek hari libur untuk memodelkan jadwal yang tidak teratur.\n",
    "> - [**Dokumentasi Resmi**](https://facebook.github.io/prophet/docs/quick_start.html)\n",
    "\n",
    "\n",
    "</div>"
   ]
  },
  {
   "cell_type": "markdown",
   "metadata": {},
   "source": [
    "## 📝 Summary Day 1\n",
    "\n",
    "- Time Series adalah ......\n",
    "\n",
    "- Jenis target yang diprediksi adalah nilai ....... Namun ada perbedaan antara Regresi vs Forecasting\n",
    "\n",
    "| **Karakteristik** | **Regresi**                              | **Peramalan/Forecasting**                      |\n",
    "|-------------------|------------------------------------------|------------------------------------|\n",
    "| **Tujuan Utama**  | ......       | ......        |\n",
    "| **Variabel**      | ......       | ......        |\n",
    "| **Fungsi**        | ......       | ......        |\n",
    "\n",
    "\n",
    "\n",
    "- Karakteristik data Time Series\n",
    "    + Pengukuran waktu: tiap jam, harian, bulanan, mingguan.\n",
    "    + Interval waktu yang ......\n",
    "    + Data harus ...... berdasarkan waktu\n",
    "    + Nilainya ......\n",
    "    \n",
    "- `prophet` merupakan library yang bisa digunakan untuk melakukan pemodelan time serie\n",
    "- Konsep GAM adalah fondasi dari model Prophet untuk memodelkan time series\n",
    "\n"
   ]
  },
  {
   "cell_type": "markdown",
   "metadata": {},
   "source": [
    "---- Start of Day 2 ----"
   ]
  },
  {
   "cell_type": "markdown",
   "metadata": {},
   "source": [
    "<div style=\"padding: 30px;\n",
    "  background: #d4afb9;\n",
    "  color: #003049;\">\n",
    "  \n",
    "# Forecasting\n",
    "</div>"
   ]
  },
  {
   "cell_type": "markdown",
   "metadata": {},
   "source": [
    "## Business Problem\n",
    "\n",
    "<div class=\"alert\">\n",
    "\n",
    "📍 **Business Problem** :  Melakukan prediksi penjualan harian untuk toko 31.\n",
    "\n",
    "📍 **Tujuan**: Membantu mengoptimalkan manajemen inventaris dan strategi penjualan.\n",
    "\n",
    "📍 **Data**: Kita akan menggunakan data penjualan harian untuk toko 31. Toko ini cocok digunakan karena memiliki :\n",
    "\n",
    "1. Relevansi bisnis: sebagai toko dengan penjualan tertinggi.\n",
    "2. Sederhana dan terfokus: Meminimalkan kompleksitas model dan memudahkan pengembangan strategi forecasting yang dapat diimplementasikan dengan mudah.\n",
    "3. Ketersediaan data: toko 31 memiliki data yang lebih lengkap dan konsisten per hari dibandingkan toko lain.\n",
    "\n",
    "Catatan: Perlu diingat bahwa pemilihan toko ini dapat disesuaikan jika terdapat kebutuhan bisnis spesifik yang memerlukan analisis pada toko lain.\n",
    "\n",
    "</div>"
   ]
  },
  {
   "cell_type": "code",
   "execution_count": null,
   "metadata": {},
   "outputs": [
    {
     "data": {
      "text/html": [
       "<div>\n",
       "<style scoped>\n",
       "    .dataframe tbody tr th:only-of-type {\n",
       "        vertical-align: middle;\n",
       "    }\n",
       "\n",
       "    .dataframe tbody tr th {\n",
       "        vertical-align: top;\n",
       "    }\n",
       "\n",
       "    .dataframe thead th {\n",
       "        text-align: right;\n",
       "    }\n",
       "</style>\n",
       "<table border=\"1\" class=\"dataframe\">\n",
       "  <thead>\n",
       "    <tr style=\"text-align: right;\">\n",
       "      <th></th>\n",
       "      <th>date</th>\n",
       "      <th>shop_id</th>\n",
       "      <th>total_qty</th>\n",
       "      <th>total_revenue</th>\n",
       "    </tr>\n",
       "  </thead>\n",
       "  <tbody>\n",
       "    <tr>\n",
       "      <th>0</th>\n",
       "      <td>2013-01-02</td>\n",
       "      <td>31</td>\n",
       "      <td>568.0</td>\n",
       "      <td>396,376.09999999497</td>\n",
       "    </tr>\n",
       "    <tr>\n",
       "      <th>1</th>\n",
       "      <td>2013-01-03</td>\n",
       "      <td>31</td>\n",
       "      <td>423.0</td>\n",
       "      <td>276,933.11</td>\n",
       "    </tr>\n",
       "    <tr>\n",
       "      <th>2</th>\n",
       "      <td>2013-01-04</td>\n",
       "      <td>31</td>\n",
       "      <td>431.0</td>\n",
       "      <td>286,408.0</td>\n",
       "    </tr>\n",
       "    <tr>\n",
       "      <th>3</th>\n",
       "      <td>2013-01-05</td>\n",
       "      <td>31</td>\n",
       "      <td>415.0</td>\n",
       "      <td>273,244.99999999</td>\n",
       "    </tr>\n",
       "    <tr>\n",
       "      <th>4</th>\n",
       "      <td>2013-01-06</td>\n",
       "      <td>31</td>\n",
       "      <td>435.0</td>\n",
       "      <td>260,775.0</td>\n",
       "    </tr>\n",
       "  </tbody>\n",
       "</table>\n",
       "</div>"
      ],
      "text/plain": [
       "        date  shop_id  total_qty       total_revenue\n",
       "0 2013-01-02       31      568.0 396,376.09999999497\n",
       "1 2013-01-03       31      423.0          276,933.11\n",
       "2 2013-01-04       31      431.0           286,408.0\n",
       "3 2013-01-05       31      415.0    273,244.99999999\n",
       "4 2013-01-06       31      435.0           260,775.0"
      ]
     },
     "metadata": {},
     "output_type": "display_data"
    }
   ],
   "source": [
    "daily_sales_31.head()"
   ]
  },
  {
   "cell_type": "markdown",
   "metadata": {},
   "source": [
    "### Baseline Model\n",
    "\n",
    "#### Prepare the data\n",
    "\n",
    "Selain kita mempersiapkan data seperti sebelumnya, `prophet` membutuhkan bentuk data yang lebih spesifik lagi yaitu: \n",
    "\n",
    "<div class=\"alert\">\n",
    "\n",
    "- Data frame harus terdiri dari 2 kolom dengan nama sebagai berikut:\n",
    "    + `ds`: kolom penanda waktu, harus bertipe `datetime64`\n",
    "    + `y`: nilai yang ingin diprediksi\n",
    "\n",
    "</div>\n",
    "\n",
    "❗️ Mari kita lakukan perubahan pada variabel `daily_sales_31` menggunakan method `rename()`"
   ]
  },
  {
   "cell_type": "code",
   "execution_count": null,
   "metadata": {
    "ExecuteTime": {
     "end_time": "2023-05-03T06:02:24.585811Z",
     "start_time": "2023-05-03T06:02:24.576825Z"
    }
   },
   "outputs": [],
   "source": [
    "daily_total_qty = \n",
    "\n",
    "daily_total_qty.head()"
   ]
  },
  {
   "cell_type": "markdown",
   "metadata": {},
   "source": [
    "<div class=\"alert\">\n",
    "\n",
    "**Karakteristik data `daily_total_qty`**\n",
    "\n",
    "> - [ ] Data (`daily_total_qty`) mewakili penjualan harian dari toko dengan `shop_id` 31 sejak Januari 2013.\n",
    "> - [ ] Setiap baris dalam tabel mewakili penjualan harian, dengan tanggal penjualan dicatat dalam kolom pertama.\n",
    "> - [ ] Kolom kedua menunjukkan total jumlah (diubah menjadi `y`) barang yang dijual oleh toko pada hari itu.\n",
    "\n",
    "</div>\n"
   ]
  },
  {
   "cell_type": "markdown",
   "metadata": {},
   "source": [
    "#### Fitting Model\n",
    "\n",
    "🔎 Selama proses fitting, model `prophet` akan menganalisis data untuk mengidentifikasi tren, seasonal, dan pola lainnya dalam data time series.\n"
   ]
  },
  {
   "cell_type": "code",
   "execution_count": null,
   "metadata": {
    "ExecuteTime": {
     "end_time": "2023-05-03T06:02:24.693569Z",
     "start_time": "2023-05-03T06:02:24.588761Z"
    }
   },
   "outputs": [],
   "source": [
    "# load the library\n",
    "# %pip install prophet\n",
    "\n",
    "from prophet import Prophet\n",
    "import cmdstanpy"
   ]
  },
  {
   "cell_type": "markdown",
   "metadata": {},
   "source": [
    "❗️ Inisiasi object model menggunakan fungsi `Prophet()`"
   ]
  },
  {
   "cell_type": "code",
   "execution_count": null,
   "metadata": {},
   "outputs": [],
   "source": [
    "model_31 = "
   ]
  },
  {
   "cell_type": "markdown",
   "metadata": {},
   "source": [
    "❗️ Fitting data `daily_total_qty` menggunakan method `fit()`"
   ]
  },
  {
   "cell_type": "code",
   "execution_count": null,
   "metadata": {
    "ExecuteTime": {
     "end_time": "2023-05-03T06:02:24.905759Z",
     "start_time": "2023-05-03T06:02:24.696154Z"
    }
   },
   "outputs": [],
   "source": [
    "model_31"
   ]
  },
  {
   "cell_type": "markdown",
   "metadata": {},
   "source": [
    "#### Forecasting\n",
    "\n",
    "**Menentukan Periode Forecasting**\n",
    "> Dalam kasus ini, kita melakukan forecasting selama **1 tahun kedepan**\n",
    "\n",
    "❗️ Membuat dataframe masa depan menggunakan method `make_future_dataframe()` dan tentukan parameter `periods` serta `freq`\n"
   ]
  },
  {
   "cell_type": "code",
   "execution_count": null,
   "metadata": {
    "ExecuteTime": {
     "end_time": "2023-05-03T06:02:24.920974Z",
     "start_time": "2023-05-03T06:02:24.908668Z"
    }
   },
   "outputs": [],
   "source": [
    "future_31 = "
   ]
  },
  {
   "cell_type": "markdown",
   "metadata": {},
   "source": [
    "💬 Setelah mempersiapkan data waktu untuk diprediksi, selanjutnya kita dapat menggunakan `predict()` untuk melakukan forecasting. Hasil forecasting akan menghasilkan perkiraan masa depan berdasarkan model yang telah dibuat sebelumnya"
   ]
  },
  {
   "cell_type": "markdown",
   "metadata": {},
   "source": [
    "❗️ Prediksi data"
   ]
  },
  {
   "cell_type": "code",
   "execution_count": null,
   "metadata": {
    "ExecuteTime": {
     "end_time": "2023-05-03T06:02:25.694368Z",
     "start_time": "2023-05-03T06:02:24.923445Z"
    }
   },
   "outputs": [],
   "source": [
    "forecast_31 = "
   ]
  },
  {
   "cell_type": "code",
   "execution_count": null,
   "metadata": {
    "ExecuteTime": {
     "end_time": "2023-05-03T06:02:25.722462Z",
     "start_time": "2023-05-03T06:02:25.706908Z"
    }
   },
   "outputs": [],
   "source": [
    "forecast_31.head()"
   ]
  },
  {
   "cell_type": "markdown",
   "metadata": {},
   "source": [
    "<div class=\"alert\">\n",
    "\n",
    "Hasilnya akan menghasilkan DataFrame dengan kolom-kolom berikut:\n",
    "\n",
    "- `ds`: nilai-nilai tanggal di masa depan yang telah kita tentukan dalam DataFrame `future_31`\n",
    "- `yhat`: nilai prediksi untuk kolom `y`\n",
    "- `yhat_lower`: batas bawah dari nilai prediksi\n",
    "- `yhat_upper`: batas atas dari nilai prediksi\n",
    "\n",
    "\n",
    "- `trend`: komponen tren dari nilai prediksi\n",
    "- `trend_lower`: batas bawah dari tren\n",
    "- `trend_upper`: batas atas dari tren\n",
    "\n",
    "\n",
    "- `weekly`: komponen mingguan dari nilai prediksi\n",
    "- `weekly_lower`: batas bawah dari komponen mingguan dari nilai prediksi\n",
    "- `weekly_upper`: batas atas dari komponen mingguan dari nilai prediksi\n",
    "\n",
    "\n",
    "- `yearly`: komponen tahunan dari nilai prediksi\n",
    "- `yearly_lower`: batas bawah dari komponen tahunan dari nilai prediksi\n",
    "- `yearly_upper`: batas atas dari komponen tahunan dari nilai prediksi\n",
    "\n",
    "- `additive_terms`: komponen tambahan dari nilai prediksi\n",
    "- `additive_terms_lower`: batas bawah dari komponen tambahan dari nilai prediksi\n",
    "- `additive_terms_upper`: batas atas dari komponen tambahan dari nilai prediksi\n",
    "\n",
    "- `multiplicative_terms`: komponen perkalian dari nilai prediksi\n",
    "- `multiplicative_terms_lower`: batas bawah dari komponen perkalian dari nilai prediksi\n",
    "- `multiplicative_terms_upper`: batas atas dari komponen perkalian dari nilai prediksi\n",
    "\n",
    "</div>"
   ]
  },
  {
   "cell_type": "markdown",
   "metadata": {},
   "source": [
    "Beberapa nilai yang sering digunakan:"
   ]
  },
  {
   "cell_type": "code",
   "execution_count": null,
   "metadata": {
    "ExecuteTime": {
     "end_time": "2023-05-03T06:02:25.735551Z",
     "start_time": "2023-05-03T06:02:25.725031Z"
    }
   },
   "outputs": [],
   "source": [
    "forecast_31[['ds', 'trend', 'weekly', 'yearly', 'yhat']].head()"
   ]
  },
  {
   "cell_type": "markdown",
   "metadata": {},
   "source": [
    "<div class=\"alert alert-danger\"><center>\n",
    "  <details>\n",
    "      <summary><b>💬 Ingat Kembali: Konsep GAM </b></summary>GAM merupakan model yang bersifat aditif, yang berarti <br> menjelaskan data time series sebagai hasil penjumlahan dari beberapa komponen.\n",
    "</div> "
   ]
  },
  {
   "cell_type": "markdown",
   "metadata": {},
   "source": [
    "💬 Pada kasus data kita, model kita telah mengekstrak 3 tipe komponen: `trend`, `weekly` seasonaliti, dan `yearly` seasonaliti. Oleh sebab itu, formulanya menjadi\n",
    "\n",
    "$yhat(t) = T(t) + S_{weekly}(t) + S_{yearly}(t)$"
   ]
  },
  {
   "cell_type": "markdown",
   "metadata": {},
   "source": [
    "❗️ Pembuktian bahwa `forecast_31` memuat fungsi berikut `yhat` = `trend` + `weekly` + `yearly`."
   ]
  },
  {
   "cell_type": "code",
   "execution_count": null,
   "metadata": {
    "ExecuteTime": {
     "end_time": "2023-05-03T06:02:25.744436Z",
     "start_time": "2023-05-03T06:02:25.737841Z"
    }
   },
   "outputs": [],
   "source": [
    "forecast_31['trend'] + forecast_31['weekly'] + forecast_31['yearly']"
   ]
  },
  {
   "cell_type": "code",
   "execution_count": null,
   "metadata": {
    "ExecuteTime": {
     "end_time": "2023-05-03T06:02:25.753254Z",
     "start_time": "2023-05-03T06:02:25.747123Z"
    }
   },
   "outputs": [],
   "source": [
    "forecast_31['yhat']"
   ]
  },
  {
   "cell_type": "markdown",
   "metadata": {},
   "source": [
    "#### Visualize\n",
    "\n",
    "❗️ Mari coba kita visualisasikan"
   ]
  },
  {
   "cell_type": "code",
   "execution_count": null,
   "metadata": {
    "ExecuteTime": {
     "end_time": "2023-05-03T06:02:26.123762Z",
     "start_time": "2023-05-03T06:02:25.756297Z"
    }
   },
   "outputs": [],
   "source": [
    "# code here \n"
   ]
  },
  {
   "cell_type": "markdown",
   "metadata": {},
   "source": [
    "❗️ Kita juga bisa memvisualisasikan tiap komponen, menggunakan method `plot_components()`"
   ]
  },
  {
   "cell_type": "code",
   "execution_count": null,
   "metadata": {
    "ExecuteTime": {
     "end_time": "2023-05-03T06:02:26.736845Z",
     "start_time": "2023-05-03T06:02:26.125798Z"
    }
   },
   "outputs": [],
   "source": [
    "# code here"
   ]
  },
  {
   "cell_type": "markdown",
   "metadata": {},
   "source": [
    "📈 Dengan melihat visualisasi tersebut kita mendapatkan:\n",
    "\n",
    "**Bagaimana Komponen Trennya?**\n",
    "> ......\n",
    "\n",
    "**Bagaimana Pola Mingguannya?**\n",
    "> ......\n",
    "\n",
    "**Bagaimana Pola Tahunannya?**\n",
    "> ......\n"
   ]
  },
  {
   "cell_type": "markdown",
   "metadata": {},
   "source": [
    "#### [[Optional] Interactive Visualization](#toc0_)\n",
    "\n",
    "Kita dapat membuat plot interaktif dari prediksi dan komponennya menggunakan `plotly`. Kita perlu menginstal `plotly` versi 4.0 atau yang lebih baru secara terpisah, karena itu tidak akan diinstal secara default bersama dengan `prophet`. Kita juga perlu menginstal paket `notebook` dan `ipywidgets`."
   ]
  },
  {
   "cell_type": "code",
   "execution_count": null,
   "metadata": {
    "ExecuteTime": {
     "end_time": "2023-05-03T06:02:26.820243Z",
     "start_time": "2023-05-03T06:02:26.738975Z"
    }
   },
   "outputs": [],
   "source": [
    "import plotly.io as pio\n",
    "# notebook\n",
    "pio.renderers.default = 'notebook'"
   ]
  },
  {
   "cell_type": "code",
   "execution_count": null,
   "metadata": {
    "ExecuteTime": {
     "end_time": "2023-05-03T06:02:27.032848Z",
     "start_time": "2023-05-03T06:02:26.823050Z"
    }
   },
   "outputs": [],
   "source": [
    "from prophet.plot import plot_plotly, plot_components_plotly\n",
    "plot_plotly(model_31, forecast_31)"
   ]
  },
  {
   "cell_type": "code",
   "execution_count": null,
   "metadata": {
    "ExecuteTime": {
     "end_time": "2023-05-03T06:02:27.484488Z",
     "start_time": "2023-05-03T06:02:27.034977Z"
    }
   },
   "outputs": [],
   "source": [
    "plot_components_plotly(model_31, forecast_31)"
   ]
  },
  {
   "cell_type": "markdown",
   "metadata": {},
   "source": [
    "<div class=\"alert\">\n",
    "\n",
    "Visualisasi interaktif menggunakan Plotly memungkinkan kita untuk mendapatkan informasi yang lebih terperinci dan spesifik dibandingkan dengan visualisasi statis biasa. Dengan mengarahkan kursor ke atas plot, kita dapat mendapatkan nilai numerik yang tepat dari setiap titik data. Selain itu, kita dapat memperbesar dan memperkecil plot untuk lebih fokus pada area tertentu yang menarik.\n",
    "\n",
    "Visualisasi interaktif juga memungkinkan kita untuk mengaktifkan atau menonaktifkan berbagai komponen deret waktu, seperti tren, musiman, dan liburan. Fitur ini memungkinkan kita untuk lebih memahami pengaruh setiap komponen pada deret waktu secara keseluruhan.\n",
    "\n",
    "Secara umum, visualisasi interaktif dapat membantu kita untuk lebih mengeksplorasi dan memahami data deret waktu yang kompleks, karena kita dapat berinteraksi secara dinamis dengan data dan menyesuaikan visualisasi berdasarkan kebutuhan kita. Jenis visualisasi ini sangat berguna untuk menyajikan temuan dan wawasan kepada pemangku kepentingan yang mungkin tidak akrab dengan data, karena memungkinkan mereka untuk berinteraksi dan menjelajahi data dengan cara yang lebih intuitif dan menarik.\n",
    "\n",
    "</div>"
   ]
  },
  {
   "cell_type": "markdown",
   "metadata": {},
   "source": [
    "<hr>\n",
    "\n",
    "<div class=\"alert alert-danger\">\n",
    "  <center><b>Analisis Lebih Lanjut❗️</b><br><hr>\n",
    "    Setelah kita tahu bahwa model prophet dapat memisahkan komponen-komponen. \n",
    "   Selanjutnya kita akan memperlajari lebih dalam tentang komponen-komponen ini. \n",
    "   <br>Dengan pemahaman yang mendalam tentang tren, musiman, dan efek liburan, bisnis dapat membuat peramalan yang lebih tepat dan merencanakan strategi yang lebih efektif.</center>\n",
    "</div> "
   ]
  },
  {
   "cell_type": "markdown",
   "metadata": {},
   "source": [
    "## Time Series Component"
   ]
  },
  {
   "cell_type": "markdown",
   "metadata": {},
   "source": [
    "<div class=\"alert\">\n",
    "\n",
    "1. **Tren (Trend):**\n",
    "   > - **Pentingnya:** Komponen tren menggambarkan pergerakan jangka panjang dalam data. Memahami tren membantu dalam mengidentifikasi apakah ada **peningkatan atau penurunan** dalam data seiring berjalannya waktu.\n",
    "   > - **Penerapan Bisnis:** Dengan memahami tren, bisnis dapat merencanakan pertumbuhan jangka panjang, mengidentifikasi perubahan pasar, dan mengambil langkah-langkah strategis.\n",
    "\n",
    "2. **Musiman (Seasonality):**\n",
    "   > - **Pentingnya:** Musiman adalah pola berulang secara teratur dalam data, seperti **peningkatan penjualan pada musim liburan atau penurunan pada musim tertentu**.\n",
    "   > - **Penerapan Bisnis:** Dengan memahami musiman, bisnis dapat menyesuaikan strategi pemasaran, persediaan, dan penawaran khusus untuk mengikuti pola musiman.\n",
    "\n",
    "3. **Efek Liburan (Holiday Effect):**\n",
    "   > - **Pentingnya:** Efek liburan mengacu pada **fluktuasi** dalam data yang terkait dengan hari-hari libur dan peristiwa khusus. Memahami efek liburan membantu dalam **mengantisipasi lonjakan atau penurunan** penjualan yang terjadi selama liburan.\n",
    "   > - **Penerapan Bisnis:** Dengan memahami efek liburan, bisnis dapat merencanakan persiapan khusus untuk menghadapi lonjakan permintaan atau menawarkan promosi yang relevan selama liburan.\n",
    "\n",
    "</div>"
   ]
  },
  {
   "cell_type": "markdown",
   "metadata": {},
   "source": [
    "### Trend Component\n",
    "\n",
    "🔎 **Definisi**\n",
    "> Menggambarkan pergerakan jangka panjang dalam data\n",
    "\n",
    "🔎 **Arah Tren**\n",
    "> Dapat bergerak ke atas (tren naik) atau ke bawah (tren turun)\n",
    ">> - Tren naik mengindikasikan peningkatan nilai dari waktu ke waktu, \n",
    ">> - Tren turun menunjukkan penurunan nilai.\n",
    "\n",
    "🔎 **Tren vs. Fluktuasi**\n",
    "> Tren harus dibedakan dari fluktuasi. Tren adalah perubahan jangka panjang, sedangkan fluktuasi adalah perubahan jangka pendek.\n",
    "\n",
    "🔻 **Visualisasi Prophet dalam Menghasilkan Tren**\n",
    "\n",
    "![regression_vs_forecasting.png](assets/trend_component.png)"
   ]
  },
  {
   "cell_type": "markdown",
   "metadata": {},
   "source": [
    "📈 **Visualisasi Linier:** Grafik tren yang dihasilkan oleh Prophet secara default adalah garis lurus (linear) ketika ditampilkan dalam visualisasi. Ini mencerminkan model tren linier yang digunakan dalam perhitungan."
   ]
  },
  {
   "cell_type": "markdown",
   "metadata": {},
   "source": [
    "🔎 **Default Linear Tren**\n",
    "> Prophet secara default mengasumsikan bahwa tren dalam data time series adalah **tren linear**. Ini berarti Prophet memodelkan perubahan nilai data sebagai **peningkatan atau penurunan ($T(t)$) yang terjadi dengan laju yang konstan sepanjang waktu ($t$)** "
   ]
  },
  {
   "cell_type": "markdown",
   "metadata": {},
   "source": [
    "**[OPTIONAL] - Mathematics Behind Trend**\n",
    "\n",
    "**Rumus Tren Default:** Secara matematis, rumus tren default dalam Prophet adalah:\n",
    "   \n",
    "   $T(t) = \\beta_0 + \\beta_1 \\cdot t$\n",
    "   \n",
    "   Di mana:\n",
    "   - $T(t)$ adalah nilai tren pada waktu $t$.\n",
    "   - $\\beta_0$ adalah intercept (potongan garis tren).\n",
    "   - $\\beta_1$ adalah koefisien kemiringan (slope) yang menunjukkan tingkat perubahan tren seiring waktu.\n",
    "\n",
    "**Tren Naik dan Turun:** \n",
    "> Koefisien $\\beta_1$ dalam rumus di atas menentukan apakah tren adalah tren naik ($\\beta_1 > 0$) atau tren turun ($\\beta_1 < 0$). Nilai $\\beta_1$ menggambarkan tingkat perubahan tren dalam unit data per unit waktu.\n",
    "\n"
   ]
  },
  {
   "cell_type": "markdown",
   "metadata": {},
   "source": [
    "**[OPTIONAL] - Mathematics Behind Trend**\n",
    "\n",
    "The linear model will take a straight line across the x axis using the ordinary least square method, means it tries to produce the least difference between the line and the actual demand value resulting in the long-term “average” value given a time point t accross the date. Linear model or linear regression is a common statistical tool to model a numerical value. The formula of a linear regression is as follow:\n",
    "\n",
    "$$y=mx+C$$\n",
    "\n",
    "In our time series context, where we try to model our trend component, y equals to the Trend, m equals the difference for every change of time point and C for the intercept. In a more specific manner we could say that:\n",
    "\n",
    "$$T(date)=m(date)+C$$\n",
    "\n",
    "To illustrate the slope part of our trend which is an important part in understanding the trend, we can create the model using `ols()` function from `statsmodels` library like follow:"
   ]
  },
  {
   "cell_type": "markdown",
   "metadata": {},
   "source": [
    "🔻 Untuk mengilustrasikan bagian slope pada tren, kita coba buat model linear menggunakan `ols()` dari library `statsmodels`"
   ]
  },
  {
   "cell_type": "code",
   "execution_count": null,
   "metadata": {
    "ExecuteTime": {
     "end_time": "2023-05-03T06:02:28.118855Z",
     "start_time": "2023-05-03T06:02:27.850245Z"
    }
   },
   "outputs": [],
   "source": [
    "# import the library\n",
    "import statsmodels.api as sm\n",
    "\n",
    "# define predictor and target variable\n",
    "daily_sales_31_copy = daily_sales_31.copy()\n",
    "daily_sales_31_copy['date_ordinal'] = daily_sales_31_copy['date'].apply(lambda date: date.toordinal())\n",
    "\n",
    "X = daily_sales_31_copy['date_ordinal']\n",
    "y = daily_sales_31_copy['total_qty']\n",
    "\n",
    "# build ols model\n",
    "X_train_sm = sm.add_constant(X)\n",
    "lr = sm.OLS(y, X_train_sm).fit()\n",
    "\n",
    "# printing the parameters\n",
    "lr.params"
   ]
  },
  {
   "cell_type": "markdown",
   "metadata": {},
   "source": [
    "Berdasarkan hasil summary, didapatkan persamaan linearnya:\n",
    "\n",
    "$$demand.in.qty=−0.17date+124413.733$$\n",
    "\n",
    "📝 **Insight:**\n",
    "\n",
    "- Koefisien slope (-0.17) menunjukkan bahwa terdapat tren negatif (penurunan) seiring berjalannya waktu. Setiap peningkatan unit waktu akan menyebabkan penurunan sebesar 0.17 unit dalam \"demand.in.qty.\"\n",
    "- Intercept (124413.733) adalah nilai \"demand.in.qty\" pada waktu awal (intersep sumbu Y ketika waktu = 0).\n"
   ]
  },
  {
   "cell_type": "markdown",
   "metadata": {},
   "source": [
    "<hr>\n",
    "\n",
    "<div class=\"alert alert-success\">\n",
    "  <center><b>Penyesuaian Fleksibilitas</b><br><hr>\n",
    "    Meskipun defaultnya adalah model tren linier, Prophet memungkinkan penyesuaian dan penanganan tren non-linier jika diperlukan dengan mengontrol parameter-parameter seperti <code>changepoints</code> untuk mengidentifikasi perubahan tren.</center>\n",
    "</div> "
   ]
  },
  {
   "cell_type": "markdown",
   "metadata": {},
   "source": [
    "#### Automatic Changepoint Detection\n",
    "\n",
    "🔎 **Tujuan**\n",
    "> - Untuk mengidentifikasi titik-titik dalam data time series di mana terjadi perubahan signifikan dalam tren atau pola. Titik-titik ini disebut `changepoints`\n",
    "> - Dapat berdampak signifikan pada akurasi prediksi\n",
    "\n",
    "🔎 **Default Setting**\n",
    "> - `n_changepoints=25`: 25 jumlah changepoint\n",
    "> - `changepoint_range=0.8`: 80% data awal tempat changepoints berada\n",
    ">> Ini berarti Prophet akan mencari hingga 25 changepoints yang mungkin dalam 80% awal data untuk membantu mengidentifikasi di mana tren mungkin berubah.\n"
   ]
  },
  {
   "cell_type": "code",
   "execution_count": null,
   "metadata": {
    "ExecuteTime": {
     "end_time": "2023-05-03T06:02:28.548193Z",
     "start_time": "2023-05-03T06:02:28.121501Z"
    }
   },
   "outputs": [],
   "source": [
    "# for illustration purposes only, threshold = 0\n",
    "from prophet.plot import add_changepoints_to_plot\n",
    "fig = model_31.plot(forecast_31)\n",
    "a = add_changepoints_to_plot(fig.gca(), model_31, forecast_31, threshold=0)"
   ]
  },
  {
   "cell_type": "markdown",
   "metadata": {},
   "source": [
    "Dari 25 changepoints prophet akan menghitung besarnya tingkat perubahan pada slope dan akan menentukan mana yang paling signifikan. \n",
    "\n",
    "🔻 Model ini mendeteksi 3 changepoints yang signifikan dan memisahkan slope 4 tren yang berbeda"
   ]
  },
  {
   "cell_type": "code",
   "execution_count": null,
   "metadata": {
    "ExecuteTime": {
     "end_time": "2023-05-03T06:02:28.926566Z",
     "start_time": "2023-05-03T06:02:28.550708Z"
    }
   },
   "outputs": [],
   "source": [
    "fig = model_31.plot(forecast_31)\n",
    "a = add_changepoints_to_plot(fig.gca(), model_31, forecast_31)"
   ]
  },
  {
   "cell_type": "markdown",
   "metadata": {},
   "source": [
    "**[Optional] How Automatic Changepoint Works**\n",
    "\n",
    "\n",
    "<br>\n",
    "\n",
    "<details>\n",
    "    <summary><b>🔻 1. Inisiasi jumlah Changepoints </b></summary>\n",
    "    \n",
    "    Pada awalnya, Prophet mengidentifikasi sejumlah potensial changepoints dalam data time series. Jumlah ini dapat dikontrol oleh pengguna dengan parameter `n_changepoints`. Secara default, Prophet mengatur 25 potensial changepoints.\n",
    "    \n",
    "</details>\n",
    "\n",
    "<details>\n",
    "    <summary><b>🔻 2. Rentang Pencarian Potensial Changepoints </b></summary>\n",
    "    \n",
    "    Prophet mengatur rentang di mana potensial changepoints dicari dalam data. Ini dikendalikan oleh parameter `changepoint_range`, yang secara default mengambil 80% awal data time series.\n",
    "    \n",
    "</details>\n",
    "\n",
    "<details>\n",
    "    <summary><b>🔻 3. Fitting Linear Regressions </b></summary>\n",
    "    \n",
    "    Algoritma mengfitting model regresi linear piecewise ke data. Setiap \"piece\" dalam model ini menggambarkan segmen yang berbeda dalam time series dengan struktur yang berbeda. Ini memungkinkan algoritma untuk mengidentifikasi bagian-bagian time series dengan struktur yang berbeda.\n",
    "    \n",
    "</details>\n",
    "\n",
    "<details>\n",
    "    <summary><b>🔻 4. Evaluasi </b></summary>\n",
    "    \n",
    "    Prophet menggunakan pendekatan Bayesian information criterion (BIC) untuk mengevaluasi sejauh mana model tren dasar sesuai dengan data aktual. Ini melibatkan analisis probabilistik untuk menilai akurasi model.\n",
    "</details>\n",
    "\n",
    "<details>\n",
    "    <summary><b>🔻 5. Seleksi changepoints terbaik </b></summary>\n",
    "    \n",
    "    Prophet memilih potensial changepoints yang memberikan hasil yang paling akurat berdasarkan evaluasi model. Proses ini melibatkan penyesuaian jumlah changepoints dan lokasi mereka untuk mencapai tingkat akurasi yang optimal.\n",
    "    \n",
    "</details>\n",
    "\n",
    "<details>\n",
    "    <summary><b>🔻 6. Didapatkan model akhir </b></summary>\n",
    "    \n",
    "    Dengan potensial changepoints yang terpilih, Prophet membangun model akhir yang memasukkan changepoints ini ke dalam forecasting. Ini memungkinkan model untuk mengakomodasi perubahan tren yang terdeteksi dalam data time series.\n",
    "    \n",
    "</details>\n",
    "\n",
    "<details>\n",
    "    <summary><b>🔻 7. Forecasting dengan memperhitungkan changepoints </b></summary>\n",
    "    \n",
    "    Setelah model akhir dibangun, Prophet menghasilkan peramalan yang memperhitungkan potensial changepoints. Ini membantu dalam meramalkan dengan lebih baik mengingat adanya perubahan tren yang terdeteksi.\n",
    "    \n",
    "</details>\n"
   ]
  },
  {
   "cell_type": "markdown",
   "metadata": {},
   "source": [
    "<hr>\n",
    "\n",
    "<div class=\"alert alert-success\">\n",
    "  <center><b>Ketidakpastian dalam Tren</b><br><hr>\n",
    "    Secara default prophet menggunakan model tren linear, tetapi dalam beberapa kasus, tren dapat lebih kompleks dan curve.</center>\n",
    "</div> "
   ]
  },
  {
   "cell_type": "markdown",
   "metadata": {},
   "source": [
    "#### Adjusting Trend Flexibility\n",
    "\n",
    "**💬 Tujuan:**\n",
    "> - Meningkatkan akurasi model\n",
    "> - Mengatasi ketidakpastian tren\n",
    "> - Mengakomodasi pola tren yang berubah seiring waktu\n",
    "> - Menyesuaikan dengan data observasi\n",
    "\n",
    "❗️❗️ Keputusan dalam melakukan penyesuaian fleksibilitas tren harus didasarkan pada pemahaman domain data dan analisis yang hati-hati. \n"
   ]
  },
  {
   "cell_type": "code",
   "execution_count": null,
   "metadata": {
    "ExecuteTime": {
     "end_time": "2023-05-03T06:02:28.935837Z",
     "start_time": "2023-05-03T06:02:28.928508Z"
    }
   },
   "outputs": [],
   "source": [
    "daily_total_qty.head()"
   ]
  },
  {
   "cell_type": "markdown",
   "metadata": {},
   "source": [
    "💬 **Parameter yang direkomendasikan untuk ditune**\n",
    "\n",
    "> - `changepoint_prior_scale` (default = 0.05): mengatur fleksibilitas tren dan seberapa besar tren berubah pada titik-titik perubahan tren. Mengubah parameter ini dapat **meningkatkan atau mengurangi** fleksibilitas tren. Rekomendasi: range[0.001, 0.5]\n",
    "\n",
    "💬 **Parameter yang tidak direkomendasikan untuk ditune**\n",
    "> - `n_changepoints` (default = 25): Lebih baik menyesuaikan parameter `changepoint_prior_scale` daripada mengubah jumlah titik perubahan secara langsung. Hal ini dapat beresiko overfitting karena model yang terbentuk akan terlalu kompleks dan kurang dapat diandalkan dalam memprediksi data baru\n",
    "> - `changepoint_range` (default = 0.8): Lebih baik menyesuaikan parameter `changepoint_prior_scale`, dikarenakan dapat menghasilkan mdel yang kurang stabil. Hal ini dapat memengaruhi bagaimana model menilai perubahan tren dalam data, yang pada gilirannya dapat mengarah pada model yang kurang dapat diandalkan."
   ]
  },
  {
   "cell_type": "markdown",
   "metadata": {},
   "source": [
    "1️⃣ Fitting Model\n",
    "\n",
    "❗️Mengatur parameter `changepoint_prior_scale=0.5` akan membuat model lebih fleksibel dalam mendeteksi titik perubahan tren. Membantu menangkap pola yang lebih kompleks dalam data, namun juga meningkatkan resiko overfitting."
   ]
  },
  {
   "cell_type": "code",
   "execution_count": null,
   "metadata": {},
   "outputs": [],
   "source": [
    "# fitting model\n",
    "model_tuning_trend = \n"
   ]
  },
  {
   "cell_type": "markdown",
   "metadata": {},
   "source": [
    "2️⃣ Forecasting"
   ]
  },
  {
   "cell_type": "code",
   "execution_count": null,
   "metadata": {},
   "outputs": [],
   "source": [
    "# forecasting\n",
    "future = \n",
    "forecast_tuning = "
   ]
  },
  {
   "cell_type": "markdown",
   "metadata": {},
   "source": [
    "3️⃣ Visualization"
   ]
  },
  {
   "cell_type": "code",
   "execution_count": null,
   "metadata": {
    "ExecuteTime": {
     "end_time": "2023-05-03T06:02:30.540056Z",
     "start_time": "2023-05-03T06:02:28.938195Z"
    }
   },
   "outputs": [],
   "source": [
    "# visualize\n",
    "fig = model_tuning_trend.plot(forecast_tuning)\n",
    "a = add_changepoints_to_plot(fig.gca(), model_tuning_trend, forecast_tuning)"
   ]
  },
  {
   "cell_type": "markdown",
   "metadata": {},
   "source": [
    "📈 Dengan melihat visualisasi tersebut kita mendapatkan:\n",
    "\n",
    "**Bagaimana pengaruh pada hasil visualisasi?**\n",
    "> ......\n",
    "\n",
    "**Bagaimana pengaruh pada hasil prediksi?**\n",
    "> ......"
   ]
  },
  {
   "cell_type": "markdown",
   "metadata": {},
   "source": [
    "🔎 Menganalisis tren pada data time series penting karena membantu dalam memahami perubahan **jangka panjang** dalam data"
   ]
  },
  {
   "cell_type": "markdown",
   "metadata": {},
   "source": [
    "### Seasonality Component\n",
    "\n",
    "🔎 **Definisi Seasonality / Musiman**\n",
    "> Mengacu pada pola teratur yang terjadi dalam data pada **interval waktu tertentu**, seperti mingguan, bulanan, tahunan.\n",
    "\n",
    "🔎 **Penyebab**\n",
    "> Faktor cuaca, hari libur, peristiwa siklik lainnya yang secara konsisten terjadi dalam data\n",
    "\n",
    "🔎 **Tujuan dan Manfaat Analisis**\n",
    "> Membantu memahami pola berulang pada data yang dapat digunakan untuk pengambilan keputusan. *Contoh:* Terjadi peningkatan penjualan ketika weekend, kita dapat menyesuaikan strategi stok dan pemasaran.\n",
    "\n",
    "🔎 **Dampak pada forecasting**\n",
    "> Memahami musiman adalah elemen penting dalam peramalan karena memungkinkan kita untuk memprediksi pola yang sama di masa depan. Hal ini penting dalam perencanaan bisnis dan pengelolaan persediaan."
   ]
  },
  {
   "cell_type": "markdown",
   "metadata": {},
   "source": [
    "❗️ Mari kita coba lihat pola musiman dari `model_31`"
   ]
  },
  {
   "cell_type": "code",
   "execution_count": null,
   "metadata": {
    "ExecuteTime": {
     "end_time": "2023-05-03T06:02:31.160260Z",
     "start_time": "2023-05-03T06:02:30.542757Z"
    }
   },
   "outputs": [],
   "source": [
    "fig = model_31.plot_components(forecast_31)"
   ]
  },
  {
   "cell_type": "markdown",
   "metadata": {},
   "source": [
    "🔎 Visualisasi ini menyesuaikan data yang kita punya:\n",
    "- ✅ **trend**: berdasarkan data dari tahun 2013 hingga quarter 3 tahun 2015\n",
    "- ✅ **weekly**: secara default akan diidentifikasikan memiliki musiman mingguan\n",
    "- ✅ **yearly**: secara default akan diatur `True` jika pada data terdapat minimal 2 tahun\n",
    "- ❌ **daily**: merupakan musiman harian, yang memodelkan pola per jam. Karena data tidak ada data perjam, secara default akan diatur `False`"
   ]
  },
  {
   "cell_type": "markdown",
   "metadata": {},
   "source": [
    "📈 Dengan memeriksa komponen-komponen musiman ini, kita dapat memahami pola-pola periodik pada data:\n",
    "\n",
    "**Dalam musiman mingguan, hari apa penjualan paling sedikit?**\n",
    "> ......\n",
    "\n",
    "**Dalam musiman tahunan, bulan apa penjualan paling sedikit?**\n",
    "> ......\n",
    "\n",
    "**Strategi bisnis apa yang bisa dilakukan**\n",
    "> - ......\n",
    "> - ......\n",
    "> - ......\n",
    "> - ......"
   ]
  },
  {
   "cell_type": "markdown",
   "metadata": {},
   "source": [
    "#### Fourier Order\n",
    "\n",
    "🔎 Komponen seasonal dalam Prophet menggunakan deret Fourier untuk memodelkan pola berulang. \n",
    "\n",
    "🔎 **Deret Fourier**\n",
    "> Representasi matematis yang digunakan untuk **menguraikan fungsi berulang atau periodik menjadi kombinasi dari fungsi sinus dan cosinus**. Dalam konteks Prophet, deret Fourier digunakan untuk menyusun pola musiman dengan kombinasi gelombang sinusoidal dan kosinusoidal.\n",
    "\n",
    "🔎 **Frekuensi**\n",
    "> Deret Fourier memiliki parameter frekuensi yang menentukan seberapa sering pola musiman berulang. Dalam Prophet, dapat diatur melalui parameter `yearly_seasonality` , `weekly_seasonality` (default=3)\n",
    "\n",
    "🔎 **Amplitudo**\n",
    "> - Amplitudo mengendalikan seberapa besar perubahan dalam pola musiman. Semakin besar amplitudo, semakin besar perubahan terjadi.\n",
    "\n",
    "🔎 Dengan meningkatkan nilai ini, kita dapat membuat seasonality yang dihasilkan menjadi lebih fleksibel (resiko overfitting)\n",
    "\n",
    "\n",
    "<img src=https://funsubstance.com/uploads/gif/382/382951.gif>\n"
   ]
  },
  {
   "cell_type": "markdown",
   "metadata": {},
   "source": [
    "Here is an interactive introduction to Fourier: http://www.jezzamon.com/fourier/"
   ]
  },
  {
   "cell_type": "markdown",
   "metadata": {},
   "source": [
    "1️⃣ Fitting Model, dengan mengatur `weekly` dan `yearly` seasonality"
   ]
  },
  {
   "cell_type": "code",
   "execution_count": null,
   "metadata": {},
   "outputs": [],
   "source": [
    "# fitting model\n",
    "model_tuning_seasonality = \n",
    "model_tuning_seasonality"
   ]
  },
  {
   "cell_type": "markdown",
   "metadata": {},
   "source": [
    "2️⃣ Forecasting"
   ]
  },
  {
   "cell_type": "code",
   "execution_count": null,
   "metadata": {},
   "outputs": [],
   "source": [
    "# forecasting\n",
    "future = \n",
    "forecast_tuning2 = "
   ]
  },
  {
   "cell_type": "markdown",
   "metadata": {},
   "source": [
    "3️⃣ Visualization"
   ]
  },
  {
   "cell_type": "code",
   "execution_count": null,
   "metadata": {
    "ExecuteTime": {
     "end_time": "2023-05-03T06:02:33.849453Z",
     "start_time": "2023-05-03T06:02:31.162844Z"
    }
   },
   "outputs": [],
   "source": [
    "# visualize\n",
    "fig = "
   ]
  },
  {
   "cell_type": "markdown",
   "metadata": {},
   "source": [
    "#### Custom Seasonalities\n",
    "\n",
    "🔎 **Default Seasonality Terbatas**\n",
    "> Model Prophet secara default hanya menyediakan seasonality mingguan dan tahunan. Jika pola musiman data tidak sesuai dengan kedua seasonality ini, perlu **custom seasonality.**\n",
    "\n",
    "🔎 **Kebutuhan Custom Seasonality**\n",
    "> - Ketika data memiliki pola musiman yang tidak biasa seperti terkait dengan tanggal gajian dalam sebulan, perlu menentukan seasonality yang sesuai.\n",
    "> - **Contoh** Penjualan di bisnis Anda sangat dipengaruhi oleh tanggal bulanan. Kebanyakan dari customer cenderung membeli produk berdasarkan waktu pembayaran gaji mereka. Karena hal ini tidak ditangkap pada kondisi seasonal weekly dan yearly, kita perlu mendefinisikan **seasonal non-regular.**\n",
    "\n",
    "🔎 **Solusi**\n",
    "> 1. **Menghapus efek seasonality default**: hapus seasonality default yang tidak sesuai dengan data dengan mengatur nilai `yearly_seasonality = False`\n",
    "> 2. **Menambahkan custom seaosonal**: tambahkan seasonality yang sesuai seperti seasonality bulanan menggunakan metode `.add_seasonality()` sebelum fitting model.\n",
    "\n",
    "Sehingga formula yang dibentuk menjadi:\n",
    "$yhat(t) = T(t) + S_{weekly}(t) + \\bf{S_{monthly}(t)}$"
   ]
  },
  {
   "cell_type": "markdown",
   "metadata": {},
   "source": [
    "1️⃣ Menghapus yearly seasonality"
   ]
  },
  {
   "cell_type": "code",
   "execution_count": null,
   "metadata": {},
   "outputs": [],
   "source": [
    "# fitting model remove seasonality\n",
    "model_custom_seasonality = "
   ]
  },
  {
   "cell_type": "markdown",
   "metadata": {},
   "source": [
    "2️⃣ Menambahkan Custom Seasonality\n",
    "\n",
    "- Montly Seasonality\n",
    "- Period = 30.5 (rata-rata jumlah hari dalam satu bulan)\n",
    "- `fourier_order=5`\n",
    "    > - biasanya [3,5] untuk model yang sederhana\n",
    "    > - mengontrol seberapa kompleks model seasonality yang digunakan. Semakin tinggi semakin fleksibel modelnya (biasanya `fourier_order=10`\n",
    "    "
   ]
  },
  {
   "cell_type": "code",
   "execution_count": null,
   "metadata": {},
   "outputs": [],
   "source": [
    "## add seasonality\n",
    "model_custom_seasonality\n",
    "\n",
    "## fitting model"
   ]
  },
  {
   "cell_type": "markdown",
   "metadata": {},
   "source": [
    "3️⃣ Forecasting & visualization"
   ]
  },
  {
   "cell_type": "code",
   "execution_count": null,
   "metadata": {
    "ExecuteTime": {
     "end_time": "2023-05-03T06:02:35.263847Z",
     "start_time": "2023-05-03T06:02:33.851853Z"
    }
   },
   "outputs": [],
   "source": [
    "# forecasting\n",
    "future = \n",
    "forecast_cutom_season = \n",
    "\n",
    "# visualize\n",
    "fig = "
   ]
  },
  {
   "cell_type": "markdown",
   "metadata": {},
   "source": [
    "💡 Nilai Fourier order yang direkomendasikan berdasarkan seasonalnya:\n",
    "- weekly seasonality = 3\n",
    "- monthly seasonality = 5\n",
    "- yearly seasonality = 10"
   ]
  },
  {
   "cell_type": "markdown",
   "metadata": {},
   "source": [
    "### [Holiday Effects](https://facebook.github.io/prophet/docs/seasonality,_holiday_effects,_and_regressors.html#modeling-holidays-and-special-events) \n",
    "\n",
    "Salah satu keuntungan dari penggunaan Prophet adalah kemampuannya untuk memperhitungkan efek liburan. Holiday effect ini didefinisikan sebagai efek non-reguler yang disiapkan secara manual oleh user. \n",
    "\n",
    "#### Modeling Holidays and Special Events\n",
    "\n",
    "🔻 Sekarang kita akan melihat data kita dari model pertama yang kita buat. Dari visualisasi kita dapat melihat adanya penjualan yang signifikan di setiap akhir tahun (mencapai lebih dari 800 penjualan per hari)."
   ]
  },
  {
   "cell_type": "code",
   "execution_count": null,
   "metadata": {
    "ExecuteTime": {
     "end_time": "2023-05-03T06:02:35.622755Z",
     "start_time": "2023-05-03T06:02:35.266490Z"
    }
   },
   "outputs": [],
   "source": [
    "# for illustration purposes only\n",
    "fig = model_31.plot(forecast_31)\n",
    "plt.axhline(y=800, color='red', ls='--')\n",
    "plt.show()"
   ]
  },
  {
   "cell_type": "markdown",
   "metadata": {},
   "source": [
    "❗️ Mari kita lihat penjualan dengan jumlah di atas 800 menggunakan conditional subsetting."
   ]
  },
  {
   "cell_type": "code",
   "execution_count": null,
   "metadata": {
    "ExecuteTime": {
     "end_time": "2023-05-03T06:02:35.633861Z",
     "start_time": "2023-05-03T06:02:35.625144Z"
    }
   },
   "outputs": [],
   "source": [
    "# code here"
   ]
  },
  {
   "cell_type": "markdown",
   "metadata": {},
   "source": [
    "Ternyata penjualan yang sangat tinggi ini terjadi di tanggal **27 - 31 Desember** pada 2 tahun data kita. Dengan ini kita dapat mengasumsikan adanya fenomena tahun baru yaitu saat dimana orang-orang menggunakan bonus akhir tahun mereka untuk berbelanja.\n",
    "\n",
    "❗️ Dari sini kita dapat mempersiapkan sebuah dataframe baru yang memiliki informasi di atas. Kolom-kolom yang harus dipersiapkan yaitu:\n",
    "\n",
    "- `holiday`: nama hari libur yang nilainya unik\n",
    "- `ds`: informasi waktu\n",
    "- `lower_window` : jumlah periode waktu **sebelum** tanggal hari libur yang diasumsikan punya pengaruh (<= 0)\n",
    "- `upper_window`: jumlah periode waktu **setelah** tanggal hari libur yang diasumsikan punya pengaruh (>= 0)\n",
    "\n",
    "⚠️ Informasi ini harus mencakup seluruh kejadian yang akan kita gunakan, baik pada model fitting maupun forecast (mundur sejauh historikal data kita, dan maju sejauh kita ingin melakukan prediksi)"
   ]
  },
  {
   "cell_type": "code",
   "execution_count": null,
   "metadata": {
    "ExecuteTime": {
     "end_time": "2023-05-03T06:02:35.646175Z",
     "start_time": "2023-05-03T06:02:35.636384Z"
    }
   },
   "outputs": [],
   "source": [
    "holiday = pd.DataFrame({\n",
    "    'holiday': 'new_year_eve',\n",
    "    'ds': pd.to_datetime(['2013-12-31', '2014-12-31', # past date, historical data \n",
    "                          '2015-12-31']), # future date, to be forecasted\n",
    "    'lower_window': -4, # include 27th - 31st December\n",
    "    'upper_window': 0})\n",
    "holiday"
   ]
  },
  {
   "cell_type": "markdown",
   "metadata": {},
   "source": [
    "❓ Setelah dataframe `holiday` dipersiapkan, kita perlu memasukkan informasi ini ke dalam `Prophet()` class pada parameter `holidays`."
   ]
  },
  {
   "cell_type": "code",
   "execution_count": null,
   "metadata": {
    "ExecuteTime": {
     "end_time": "2023-05-03T06:02:37.024424Z",
     "start_time": "2023-05-03T06:02:35.648709Z"
    }
   },
   "outputs": [],
   "source": [
    "# fitting model\n",
    "model_holiday = Prophet(.....)\n",
    "model_holiday.fit(daily_total_qty)\n",
    "\n",
    "# forecasting\n",
    "future = model_holiday.make_future_dataframe(periods=365, freq='D')\n",
    "forecast_holiday = model_holiday.predict(future)\n",
    "\n",
    "# visualize\n",
    "fig = model_holiday.plot(forecast_holiday)"
   ]
  },
  {
   "cell_type": "markdown",
   "metadata": {},
   "source": [
    "💬 Dengan adanya informasi hari libur akhir tahun, terlihat bahwa model yang dihasilkan lebih baik menangkap pola di akhir tahun dibandingkan hanya menggunakan efek yearly seasonality. \n",
    "\n",
    "❗️ Jika kita plot komponennya, kita dapat melihat adanya efek komponen holiday yang terlampir:"
   ]
  },
  {
   "cell_type": "code",
   "execution_count": null,
   "metadata": {
    "ExecuteTime": {
     "end_time": "2023-05-03T06:02:37.862166Z",
     "start_time": "2023-05-03T06:02:37.026842Z"
    }
   },
   "outputs": [],
   "source": [
    "fig = model_holiday.plot_components(forecast_holiday)"
   ]
  },
  {
   "cell_type": "markdown",
   "metadata": {},
   "source": [
    "#### [[OPTIONAL] Built-in Country Holidays](https://facebook.github.io/prophet/docs/seasonality,_holiday_effects,_and_regressors.html#built-in-country-holidays) \n",
    "\n",
    "Kita dapat menggunakan informasi built-in tentang hari libur spesifik suatu negara menggunakan method `.add_country_holidays()` sebelum melakukan fitting model. Parameter yang harus ditambahkan yaitu `country_name` dan untuk Indonesia masukkan nilai `\"ID\"`\n",
    "\n",
    "❗️Mari kita tambahkan holiday untuk Indonesia"
   ]
  },
  {
   "cell_type": "code",
   "execution_count": null,
   "metadata": {
    "ExecuteTime": {
     "end_time": "2023-05-03T06:02:38.112941Z",
     "start_time": "2023-05-03T06:02:37.864552Z"
    }
   },
   "outputs": [],
   "source": [
    "model_holiday_indo = Prophet()\n",
    "model_holiday_indo.add_country_holidays(country_name='ID')\n",
    "model_holiday_indo.fit(daily_total_qty)\n",
    "\n",
    "model_holiday_indo.train_holiday_names"
   ]
  },
  {
   "cell_type": "markdown",
   "metadata": {},
   "source": [
    "💬 Sebagai tambahan, kita juga dapat secara manual menambahkan informasi hari libur di atas menggunakan modul `hdays` dari `prophet`. Cara ini biasanya digunakan ketika kita hanya ingin mengambil beberapa informasi hari libur, tidak semuanya.\n",
    "\n",
    "Sebagai contoh kita ingin membuat list hari libur di Indonesia pada tahun 2020 dan 2021 secara manual.\n",
    "\n",
    "- Fungsi `hdays.Indonesia()` digunakan untuk menginisiasi list hari libur di Indonesia\n",
    "- Method `_populate()` digunakan untuk menambahkan list hari libur di tahun yang kita inginkan, hasilnya dalam bentuk dictionary dengan tanggal sebagai key dan nama hari libur sebagai value.\n",
    "\n",
    "Langkah yang perlu dilakukan adalah membuatnya ke dalam bentuk dataframe. Kita akan menggunakan fungsi `pd.DataFrame()` dan merapikan bentuk dataframe kita agar sesuai dengan input yang diharapkan Prophet."
   ]
  },
  {
   "cell_type": "code",
   "execution_count": null,
   "metadata": {
    "ExecuteTime": {
     "end_time": "2023-05-03T06:02:38.134909Z",
     "start_time": "2023-05-03T06:02:38.115663Z"
    }
   },
   "outputs": [],
   "source": [
    "from prophet.make_holidays import make_holidays_df\n",
    "\n",
    "id_holidays = make_holidays_df(\n",
    "    year_list=[2020,2021], country='ID'\n",
    ")\n",
    "id_holidays.head(n=10)"
   ]
  },
  {
   "cell_type": "markdown",
   "metadata": {},
   "source": [
    "## Forecasting Evaluation\n",
    "\n",
    "💬 Evaluasi model forecasting dengan metode splitting melibatkan pembagian data menjadi dua bagian:\n",
    "> - **Data Latih (Train Data)**: Digunakan untuk melatih model time series untuk mengidentifikasi pola-pola dasar seperti tren dan seasonal\n",
    "> - **Data Uji (Test Data)**: Diamankan untuk melakukan cross-validation dan menguji kinerja model pada data yang belum pernah dilihat (*unseen*)\n",
    "\n",
    "💬 **Tujuannya** untuk mendapatkan gambaran tentang seberapa baik performa model dapat memprediksi data baru yang belum pernah dilihat sebelumnya. \n",
    "\n",
    "### Train-Test Split\n",
    "\n",
    "💬 **Train-Test Split secara Temporal**: Pada data time series, pembagian data train dan test biasanya dilakukan dengan cara temporal, di mana data masa lalu digunakan untuk melatih model dan data masa depan digunakan untuk pengujian.\n",
    "\n",
    "Pada data ini, kita memiliki range waktu dari awal 2013 sampai q3 tahun 2015. \n",
    "\n",
    "❗️ Misalkan kita ingin menggunakan data di **tahun 2015 sebagai test data** dan sisanya untuk train data."
   ]
  },
  {
   "cell_type": "code",
   "execution_count": null,
   "metadata": {},
   "outputs": [],
   "source": [
    "cutoff = pd.to_datetime('2015-01-01')"
   ]
  },
  {
   "cell_type": "markdown",
   "metadata": {},
   "source": [
    "🔻  Jika divisualisasikan maka titik-titik berwarna merah di bawah yang tidak akan difitting pada model Prophet kita."
   ]
  },
  {
   "cell_type": "code",
   "execution_count": null,
   "metadata": {
    "ExecuteTime": {
     "end_time": "2023-05-03T06:02:42.489465Z",
     "start_time": "2023-05-03T06:02:42.154827Z"
    }
   },
   "outputs": [],
   "source": [
    "# for illustration purposes only\n",
    "daily_total_qty['type'] = daily_total_qty['ds'].apply(\n",
    "    lambda date: 'train' if date < cutoff else 'test')\n",
    "\n",
    "plt.figure(figsize=(10, 5))\n",
    "sns.scatterplot(x='ds', y='y', hue='type', s=7,\n",
    "                palette=['black', 'red'],\n",
    "                data=daily_total_qty)\n",
    "plt.axvline(x=cutoff, color='gray', label='cutoff')\n",
    "plt.legend()\n",
    "plt.show()"
   ]
  },
  {
   "cell_type": "markdown",
   "metadata": {},
   "source": [
    "❗️ Lakukan pemisahan data menggunakan *conditional subsetting* karena sebelumnya kita sudah memasukkan data di tahun 2015 sebagai variabel `cutoff`"
   ]
  },
  {
   "cell_type": "code",
   "execution_count": null,
   "metadata": {},
   "outputs": [],
   "source": [
    "train = \n",
    "test = "
   ]
  },
  {
   "cell_type": "code",
   "execution_count": null,
   "metadata": {
    "ExecuteTime": {
     "end_time": "2023-05-03T06:02:42.498169Z",
     "start_time": "2023-05-03T06:02:42.491691Z"
    }
   },
   "outputs": [],
   "source": [
    "print(f'Train size: {train.shape}')\n",
    "print(f'Test size: {test.shape}')"
   ]
  },
  {
   "cell_type": "markdown",
   "metadata": {},
   "source": [
    "❗️Sekarang mari kita latih model untuk forecast `total_qty` (bukan revenue). Kita akan menggunakan data tahun 2013-2014 dan forecast untuk tahun 2015 (**303 hari**)."
   ]
  },
  {
   "cell_type": "markdown",
   "metadata": {},
   "source": [
    "1️⃣ Fitting Model \n",
    "\n",
    "📍 Parameter yang perlu diatur:\n",
    "- `holidays`\n",
    "- `yearly_seasonality`\n",
    "- `add_seasonality`\n",
    "    + `monthly`\n",
    "    + `period`\n",
    "    + `fourier_order=5`\n",
    "    \n",
    "📍 Fitting model hanya untuk train data"
   ]
  },
  {
   "cell_type": "code",
   "execution_count": null,
   "metadata": {},
   "outputs": [],
   "source": [
    "# inisiasi model: holiday + yearly_seasonality\n",
    "model_final = \n",
    "\n",
    "# add_seasonality\n"
   ]
  },
  {
   "cell_type": "code",
   "execution_count": null,
   "metadata": {},
   "outputs": [],
   "source": [
    "# model fitting\n"
   ]
  },
  {
   "cell_type": "markdown",
   "metadata": {},
   "source": [
    "2️⃣ Forecasting dari `model_final`"
   ]
  },
  {
   "cell_type": "code",
   "execution_count": null,
   "metadata": {},
   "outputs": [],
   "source": [
    "# forecasting\n",
    "future_final = \n",
    "forecast_final = "
   ]
  },
  {
   "cell_type": "markdown",
   "metadata": {},
   "source": [
    "3️⃣ Visualization dari data hasil forecasting `forecast_final`"
   ]
  },
  {
   "cell_type": "code",
   "execution_count": null,
   "metadata": {
    "ExecuteTime": {
     "end_time": "2023-05-03T06:02:43.737912Z",
     "start_time": "2023-05-03T06:02:42.500454Z"
    }
   },
   "outputs": [],
   "source": [
    "# visualize\n",
    "fig = model_final.plot(forecast_final)\n",
    "plt.scatter(x=test['ds'], y=test['y'], s=10, color='red')\n",
    "plt.show()"
   ]
  },
  {
   "cell_type": "markdown",
   "metadata": {},
   "source": [
    "<hr>\n",
    "\n",
    "<div class=\"alert alert-danger\">\n",
    "  <center><b>Analisis Lanjutan Berdasarkan Model</b><br><hr>\n",
    "    Berdasarkan plot di atas model kita mampu untuk meramalkan kondisi di masa depan secara general, tetapi pada beberapa bagian masih berbeda antara data asli dengan data prediksi. Perbedaan kedua nilai itu disebut dengan error dan kita harus menghitung nilainya untuk mendapatkan kesimpulan evaluasi model.</center>\n",
    "</div> "
   ]
  },
  {
   "cell_type": "markdown",
   "metadata": {},
   "source": [
    "### Evaluation Metrics\n",
    "\n",
    "💬 **Metrik evaluasi**\n",
    "> Metrik atau ukuran digunakan untuk mengukur kesalahan / *error* berdasarkan selisih antara nilai yang diprediksi oleh model dan nilai aktual dalam data.\n",
    "\n",
    "Berikut adalah metrics yang umum digunakan\n",
    "\n",
    "- Mean Absolute Error (MAE)\n",
    "\n",
    "<center>\n",
    "$$MAE = \\frac{\\sum_{i=1}^{n}\\left | y_{pred, i} - y_{real, i} \\right |}{n}$$\n",
    "</center>\n",
    "\n",
    "> 🔎 **Interpretasi MAE**: MAE mengukur kesalahan rata-rata dalam satuan yang sama dengan data aktual. Misalnya, jika MAE adalah 10, ini berarti prediksi rata-rata selisih sebesar 10 unit dari data aktual.\n",
    "\n",
    "- Mean Precentage Absolute Error\n",
    "<center>\n",
    "$MAPE = \\frac{1}{n}\\Sigma{\\frac{| y-\\hat y|}{y}} \\times 100\\%$  \n",
    "</center>\n",
    "\n",
    "> 🔎 **Interpretasi MAPE**:MAPE mengukur kesalahan rata-rata dalam bentuk persentase dari data aktual. Misalnya, jika MAPE adalah 5%, ini berarti prediksi rata-rata memiliki kesalahan sebesar 5% dari data aktual."
   ]
  },
  {
   "cell_type": "markdown",
   "metadata": {},
   "source": [
    "🔎 Berikut adalah perbedaan dalam cara menginterpretasikan serta kelebihan dan kekurangan dari metrik MAE (Mean Absolute Error) dan MAPE (Mean Absolute Percentage Error) dalam menangani jenis data tertentu:\n",
    "\n",
    "| Metrics                     | Cara Menginterpretasikan                                     | Kelebihan                                      | Kekurangan                                   | Cocok untuk Jenis Data        |\n",
    "|-----------------------------|---------------------------------------------------------|------------------------------------------------|--------------------------------------------|-------------------------------|\n",
    "| **MAE**                     | Menunjukkan kesalahan rata-rata dalam satuan yang sama dengan data aktual.                 | Mudah diinterpretasikan. Tidak terpengaruh oleh outlier. | Tidak memberikan gambaran kesalahan relatif. Sensitif terhadap perbedaan skala. | Data yang memiliki outlier.         |\n",
    "| **MAPE**                    | Menunjukkan kesalahan rata-rata dalam bentuk persentase dari data aktual.                 | Memberikan gambaran kesalahan relatif dalam bentuk persentase. | Tidak dapat digunakan jika ada nilai nol dalam data aktual. Sensitif terhadap perbedaan skala dalam persentase. | Data dengan variasi skala besar. |\n",
    "\n",
    "\n"
   ]
  },
  {
   "cell_type": "markdown",
   "metadata": {},
   "source": [
    "#### ❓Knowledge Check\n",
    "\n",
    "1. Yang kita inginkan dari kedua nilai tersebut adalah nilai yang semakin...\n",
    "\n",
    "- [ ] A. Tinggi\n",
    "- [ ] B. Rendah\n",
    "\n",
    "2. Apabila kita memiliki data dengan beberapa obeservasi nilainya sangat kecil atau mendekati nol. Metrics apa yang cocok?\n",
    "\n",
    "- [ ] A. MAE\n",
    "- [ ] B. MAPE\n",
    "\n",
    "\n",
    "      "
   ]
  },
  {
   "cell_type": "markdown",
   "metadata": {},
   "source": [
    "❗️❗️ Pemilihan matrics pada kasus forecasting tidak terlalu straight seperti kasus klasifikasi. Terkadang mungkin juga kita menggunakan metriks bersama-sama untuk mendapatkan pemahaman yang lebih lengkap tentang kualitas model forecast❗️❗️"
   ]
  },
  {
   "cell_type": "markdown",
   "metadata": {},
   "source": [
    "🔻 Mari kita hitung MAPE dari model kita"
   ]
  },
  {
   "cell_type": "code",
   "execution_count": null,
   "metadata": {},
   "outputs": [],
   "source": [
    "from sklearn.metrics import mean_absolute_percentage_error"
   ]
  },
  {
   "cell_type": "markdown",
   "metadata": {},
   "source": [
    "1️⃣ Data Train"
   ]
  },
  {
   "cell_type": "code",
   "execution_count": null,
   "metadata": {},
   "outputs": [],
   "source": [
    "forecast_train = "
   ]
  },
  {
   "cell_type": "code",
   "execution_count": null,
   "metadata": {
    "ExecuteTime": {
     "end_time": "2023-05-03T06:02:43.789734Z",
     "start_time": "2023-05-03T06:02:43.740718Z"
    }
   },
   "outputs": [],
   "source": [
    "train_mape = "
   ]
  },
  {
   "cell_type": "markdown",
   "metadata": {},
   "source": [
    "2️⃣ Data Test"
   ]
  },
  {
   "cell_type": "code",
   "execution_count": null,
   "metadata": {},
   "outputs": [],
   "source": [
    "forecast_test = "
   ]
  },
  {
   "cell_type": "code",
   "execution_count": null,
   "metadata": {
    "ExecuteTime": {
     "end_time": "2023-05-03T06:02:43.799345Z",
     "start_time": "2023-05-03T06:02:43.792297Z"
    }
   },
   "outputs": [],
   "source": [
    "test_mape = "
   ]
  },
  {
   "cell_type": "markdown",
   "metadata": {},
   "source": [
    "### [[Optional] Expanding Window Cross Validation](#toc0_)\n",
    "\n",
    "Selain itu, kita bisa melakukan pengembangan lagi dengan melakukan lebih dari satu kali train-test split seperti gambar di bawah:\n",
    "\n",
    "<center>\n",
    "<img src=\"assets/forward-chaining-cv.png\" width=\"80%\">\n",
    "</center>\n",
    "\n",
    "💬 Prosedur ini disebut dengan **expanding window** dan dapat otomatis dilakukan dengan mengatur parameter pada method `cross_validation()`. Berikut ini adalah tiga parameter yang harus ditentukan:\n",
    "\n",
    "- `initial`: Panjang waktu data training\n",
    "- `horizon`: Panjang waktu forecast\n",
    "- `period`: Jarak tanggal tiap cutoff"
   ]
  },
  {
   "cell_type": "markdown",
   "metadata": {},
   "source": [
    "💬 Expanding window adalah pengembangan dari cross validation biasa\n",
    "- melihat kestabilan model dengan mengubah-ubah jumlah data train yang digunakan\n",
    "- nilai initial adalah jumlah data yang kita gunakan pada train pertama (nilainya harus lebih sedikit dari jumlah data yang kita fitting) -> nilai minimumnya jumlah data fitting - horizon\n",
    "- nilai horizon adalah panjang waktu yang dijadikan data validasi\n",
    "- nilai period adalah lompatan waktu dari train pertama ke train kedua"
   ]
  },
  {
   "cell_type": "code",
   "execution_count": null,
   "metadata": {},
   "outputs": [],
   "source": [
    "from prophet.diagnostics import cross_validation"
   ]
  },
  {
   "cell_type": "code",
   "execution_count": null,
   "metadata": {},
   "outputs": [],
   "source": [
    "daily_total_qty.shape, train.shape"
   ]
  },
  {
   "cell_type": "code",
   "execution_count": null,
   "metadata": {
    "ExecuteTime": {
     "end_time": "2023-05-03T06:02:46.182870Z",
     "start_time": "2023-05-03T06:02:43.801668Z"
    }
   },
   "outputs": [],
   "source": [
    "df_cv_f = cross_validation(model_final, # model yang sudah difitting\n",
    "                         initial='600 days', # panjang seluruh data yang ada di model kita\n",
    "                         horizon='30 days', # panjang waktu yang ditest\n",
    "                         period='50 days') # lompatan tiap fold\n",
    "df_cv_f"
   ]
  },
  {
   "cell_type": "code",
   "execution_count": null,
   "metadata": {},
   "outputs": [],
   "source": [
    "df_cv = cross_validation(model_holiday, # model yang sudah difitting\n",
    "                         initial='731 days', # panjang seluruh data yang ada di model kita\n",
    "                         horizon='30 days', # panjang waktu yang ditest\n",
    "                         period='90 days') # lompatan tiap fold\n",
    "df_cv"
   ]
  },
  {
   "cell_type": "markdown",
   "metadata": {},
   "source": [
    "Proses cross-validation di atas akan dilakukan sebanyak 4 kali (4 folds), dimana setiap fold akan meramal 30 hari (`horizon`) sejak tanggal cutoff. Berikut adalah ilustrasi dari setiap fold:"
   ]
  },
  {
   "cell_type": "code",
   "execution_count": null,
   "metadata": {
    "ExecuteTime": {
     "end_time": "2023-05-03T06:02:46.191264Z",
     "start_time": "2023-05-03T06:02:46.185499Z"
    }
   },
   "outputs": [],
   "source": [
    "from helper import viz"
   ]
  },
  {
   "cell_type": "code",
   "execution_count": null,
   "metadata": {
    "ExecuteTime": {
     "end_time": "2023-05-03T06:02:47.620866Z",
     "start_time": "2023-05-03T06:02:46.193530Z"
    }
   },
   "outputs": [],
   "source": [
    "# for illustration purposes only\n",
    "df_copy = daily_total_qty[['ds', 'y']].copy()\n",
    "df_cutoff_horizon = df_cv.groupby('cutoff')[['ds']].max()\n",
    "\n",
    "viz.forward_chaining_viz(df_copy, df_cutoff_horizon)"
   ]
  },
  {
   "cell_type": "markdown",
   "metadata": {},
   "source": [
    "🔻 Metric error setiap fold pada cross-validation dapat dihitung manual, contohnya MAPE di bawah ini:"
   ]
  },
  {
   "cell_type": "code",
   "execution_count": null,
   "metadata": {
    "ExecuteTime": {
     "end_time": "2023-05-03T06:02:47.632823Z",
     "start_time": "2023-05-03T06:02:47.623139Z"
    }
   },
   "outputs": [],
   "source": [
    "cv_mape = df_cv.groupby('cutoff').apply(\n",
    "    lambda x: mean_absolute_percentage_error(y_true=x['y'],\n",
    "                                     y_pred=x['yhat']))\n",
    "cv_mape"
   ]
  },
  {
   "cell_type": "markdown",
   "metadata": {},
   "source": [
    "Karena bisa dikatakan kita memiliki 4 model, kita dapat menghitung kembali **MAPE** model secara keseluruhan dengan mengambil rata-ratanya."
   ]
  },
  {
   "cell_type": "code",
   "execution_count": null,
   "metadata": {
    "ExecuteTime": {
     "end_time": "2023-05-03T06:02:47.641041Z",
     "start_time": "2023-05-03T06:02:47.635870Z"
    }
   },
   "outputs": [],
   "source": [
    "cv_mape.mean()"
   ]
  },
  {
   "cell_type": "markdown",
   "metadata": {},
   "source": [
    "<hr>\n",
    "\n",
    "<div class=\"alert alert-danger\">\n",
    "  <center><b>Workflow Machine Learning</b><br><hr>\n",
    "    Sebenarnya analisis dapat berhenti sampai prose pembuatan model. Namun, workflow machine learning tidak berjalan seperti waterfall. Apabila kita kurang puas dengan evaluasi model, kita dapat melakukan tuning kembali model kita supata dapat lebih bagus lagi</center>\n",
    "</div> "
   ]
  },
  {
   "cell_type": "markdown",
   "metadata": {},
   "source": [
    "## Hyperparameter Tuning\n",
    "\n",
    "Hyperparameter tuning adalah langkah penting dalam membangun model machine learning untuk mencapai kinerja terbaik. \n",
    "\n",
    "💬 **Tujuan**:\n",
    "> Menemukan **kombinasi terbaik dari hyperparameter** yang **meminimalkan kesalahan forecasting**\n",
    "\n",
    "💬 **Metode Hyperpatameter Tuning**\n",
    "> - Menggunakan **Algoritma Grid Search**: metode *brute-force* yang membangun model untuk setiap kombinasi hyperparameter yang ditentukan dan kemudian mengevaluasinya.\n",
    "> - Metode ini bisa memakan waktu dan sumber daya komputasi, tetapi metode ini menjamin menemukan hyperparameter optimal yang sesuai dengan rentang nilai yang ditentukan.\n",
    "\n",
    "💬 **Referensi**\n",
    "> - Silakan buka [link ini](https://facebook.github.io/prophet/docs/diagnostics.html#hyperparameter-tuning) untuk melihat rekomendasi hyperparameter yang dapat di-tuning pada model Prophet.<br>\n",
    "> - Bacaan lain yang berguna untuk hyperparameter tuning dapat diakses pada [link ini](https://medium.com/grabngoinfo/hyperparameter-tuning-and-regularization-for-time-series-model-using-prophet-in-python-9791370a07dc).\n",
    "\n",
    "💬 **Langkah-langkah menggunakan Algoritma Grid Search untuk mencari hyperparameter terbaik**\n",
    "> 1.  Menentukan nilai-nilai dari hyperparameter yang ingin dicoba\n",
    "> 2.  Melakukan iterasi pembuatan model dan menghitung nilai MAPE-nya menggunakan *for-loop*\n",
    "> 3.  Mendapatkan kombinasi hyperparameter optimal yang memiliki MAPE terkecil\n"
   ]
  },
  {
   "cell_type": "markdown",
   "metadata": {},
   "source": [
    "1️⃣ Tentukan hyperparameter dan masukkan beberapa nilai didalamnya. Serta buat variabel untuk mengisi kombinasi hyperparameter dan nilai MAPE"
   ]
  },
  {
   "cell_type": "code",
   "execution_count": null,
   "metadata": {},
   "outputs": [],
   "source": [
    "from sklearn.model_selection import ParameterGrid\n",
    "\n",
    "# Grid search parameters (TO DO: specify possible values)\n",
    "param_grid = {  \n",
    "    'changepoint_prior_scale': ......,\n",
    "    'yearly_seasonality': ......\n",
    "}\n",
    "\n",
    "# Generate all combinations of parameters\n",
    "all_params = list(ParameterGrid(param_grid))\n",
    "\n",
    "mape = []  # Store the result for each params here"
   ]
  },
  {
   "cell_type": "code",
   "execution_count": null,
   "metadata": {},
   "outputs": [],
   "source": [
    "all_params"
   ]
  },
  {
   "cell_type": "markdown",
   "metadata": {},
   "source": [
    "2️⃣ Melakukan iterasi dengan memasukkan kedalam pembuatan model Prophet - Fitting Model - Evaluasi"
   ]
  },
  {
   "cell_type": "code",
   "execution_count": null,
   "metadata": {
    "scrolled": true
   },
   "outputs": [],
   "source": [
    "# Iterate each parameter\n",
    "for parameter in all_params:\n",
    "    # print parameter\n",
    "    print(parameter)\n",
    "    # (TO DO: change the data and add other components: seasonality, holiday)\n",
    "    model = Prophet(changepoint_prior_scale = parameter['changepoint_prior_scale'],\n",
    "                    yearly_seasonality= parameter['yearly_seasonality'],\n",
    "                    holidays=holiday)\n",
    "    # Train model with data train\n",
    "    model.fit(train)\n",
    "    \n",
    "    # forecasting\n",
    "    future = model.make_future_dataframe(periods=303, freq='D') # 303 days (test size)\n",
    "    forecast = model.predict(future)\n",
    "    \n",
    "    # Evaluation metrics: MAPE\n",
    "    forecast_test = forecast[forecast['ds'] >= cutoff]\n",
    "    test_mape = mean_absolute_percentage_error(y_true=test['y'],\n",
    "                                               y_pred=forecast_test['yhat'])\n",
    "    \n",
    "    mape.append(round(test_mape, 2))"
   ]
  },
  {
   "cell_type": "markdown",
   "metadata": {},
   "source": [
    "🔎 Rangkaian kode di atas akan menjalankan model untuk setiap kombinasi hyperparameter pada model time series kita. Model tersebut dilatih menggunakan dataframe `daily_total_qty` dan dimasukkan ke dalam proses cross-validation dengan periode training selama **730 hari** dan horizon **30 hari**. Terakhir, model ini dievaluasi menggunakan metric MAPE yang disimpan ke dalam variabel `mape` untuk setiap kombinasi parameter yang digunakan.\n",
    "\n",
    "❗ Library `tqdm` digunakan untuk melihat progress iterasi.\n",
    "\n",
    "🔻 Dari variabel `all_params` dan `mape` kita dapat menyusun dataframe yang menyimpan kedua informasinya lalu mengurutkannya dari yang errornya paling kecil."
   ]
  },
  {
   "cell_type": "code",
   "execution_count": null,
   "metadata": {
    "ExecuteTime": {
     "end_time": "2023-05-03T06:03:08.781380Z",
     "start_time": "2023-05-03T06:03:08.769451Z"
    },
    "scrolled": true
   },
   "outputs": [],
   "source": [
    "tuning_results = pd.DataFrame(all_params)\n",
    "tuning_results['mape'] = mape\n",
    "\n",
    "tuning_results.sort_values(by='mape')"
   ]
  },
  {
   "cell_type": "markdown",
   "metadata": {},
   "source": [
    "3️⃣ Mendapatkan kombinasi hyperparameter yang baik"
   ]
  },
  {
   "cell_type": "code",
   "execution_count": null,
   "metadata": {},
   "outputs": [],
   "source": [
    "import numpy as np\n",
    "\n",
    "best_params = all_params[np.argmin(mape)]\n",
    "best_params"
   ]
  },
  {
   "cell_type": "markdown",
   "metadata": {},
   "source": [
    "4️⃣ **Buat ulang model** -> Dengan informasi parameter terbaik ini, kita lakukan kembali fitting model yang akan digunakan untuk forecasting."
   ]
  },
  {
   "cell_type": "code",
   "execution_count": null,
   "metadata": {
    "ExecuteTime": {
     "end_time": "2023-05-03T06:03:09.037922Z",
     "start_time": "2023-05-03T06:03:08.792421Z"
    }
   },
   "outputs": [],
   "source": [
    "model_best = \n"
   ]
  },
  {
   "cell_type": "code",
   "execution_count": null,
   "metadata": {
    "ExecuteTime": {
     "end_time": "2023-05-03T06:03:10.224608Z",
     "start_time": "2023-05-03T06:03:09.041166Z"
    }
   },
   "outputs": [],
   "source": [
    "future_best = model_best.make_future_dataframe(periods=365, freq='D')\n",
    "forecast_best = model_best.predict(future_best)\n",
    "\n",
    "fig = model_best.plot(forecast_best)"
   ]
  },
  {
   "cell_type": "markdown",
   "metadata": {},
   "source": [
    "## Summary Time Series Component\n",
    "\n",
    "**Seasonal**\n",
    "\n",
    "> - **Definisi**: pola perubahan yang berulang dalam data deret waktu seiring waktu, seperti perubahan musiman harian, mingguan, atau tahunan.\n",
    "> - **Komponen**: Memiliki 3 deafult musiman yaitu: daily, weekly dan yearly\n",
    "> - **Penyesuaian musiman**: memungkinkan pengguna untuk mengendalikan fleksibilitas model musiman sesuai dengan karakteristik data, seperti musim yang sangat variabel atau musim yang kurang signifikan.\n",
    "> - **Custom seasonal lain**: monthly, quarterly, dsb\n",
    "\n",
    "\n",
    "**Holiday Effect**\n",
    "\n",
    "> - **Definisi**: juga dapat dianggap sebagai komponen musiman yang mempengaruhi data pada tanggal-tanggal tertentu, seperti liburan.\n",
    "> - **Penentuan**: Menentukan secara manual tanggal-tanggal yang mungkin punya pengaruh pada data kita."
   ]
  },
  {
   "cell_type": "markdown",
   "metadata": {},
   "source": [
    "\n",
    "\n",
    "| Aspek               | Tren                  | Komponen Musiman     | Efek Liburan          |\n",
    "|---------------------|-----------------------|-----------------------|-----------------------|\n",
    "| Definisi            | Pola perubahan jangka panjang dalam data yang berlangsung seiring waktu. | Pola perubahan yang berulang dalam data pada interval waktu tertentu, seperti harian, mingguan, atau tahunan. | Pengaruh khusus yang terjadi pada tanggal-tanggal tertentu, seperti liburan atau peristiwa khusus. |\n",
    "| Contoh              | Peningkatan penjualan secara umum dalam setiap tahun. | Kenaikan penjualan setiap bulan pada hari Minggu. | Lonjakan penjualan saat musim liburan. |\n",
    "| Identifikasi       | Tren bisa dikenali dari perubahan umum dan arah data. | Musiman dikenali dari pola berulang dalam data. | Efek liburan dikenali dari tanggal-tanggal yang sesuai. |\n",
    "| Pemodelan           | Tren dapat dimodelkan dengan berbagai pendekatan, seperti regresi linier atau model Prophet. | Komponen musiman dalam model Prophet mengidentifikasi dan memodelkan pola musiman secara otomatis. | Efek liburan dapat dimodelkan sebagai perubahan tambahan dalam data pada tanggal-tanggal tertentu. |\n",
    "| Pengaruh Terhadap Data Lainnya | Tren mempengaruhi perubahan umum dalam data. | Komponen musiman mempengaruhi perubahan berulang dalam data. | Efek liburan mempengaruhi perubahan pada tanggal-tanggal spesifik. |\n",
    "\n",
    "Catatan: Ketiga komponen ini sering digunakan bersama-sama dalam analisis deret waktu untuk memahami pola perubahan dalam data dan membuat peramalan yang akurat."
   ]
  },
  {
   "cell_type": "markdown",
   "metadata": {},
   "source": [
    "## 🏄🏻‍♀️ Dive Deeper\n",
    "\n",
    "Pada latihan sebelumnya, kita membuat model time series menggunakan data `shop_id = 31`, pada dive deeper ini cobalah ramalkan `total_revenue` menggunakan data `shop_id = 25`. Gunakan parameter-parameter untuk mengatur changepoint serta komponen seasonal maupun holiday sesuai keinginan Anda. "
   ]
  },
  {
   "cell_type": "code",
   "execution_count": null,
   "metadata": {
    "ExecuteTime": {
     "end_time": "2023-05-03T06:03:10.229590Z",
     "start_time": "2023-05-03T06:03:10.226604Z"
    }
   },
   "outputs": [],
   "source": [
    "# code here\n"
   ]
  }
 ],
 "metadata": {
  "kernelspec": {
   "display_name": "smmdadp",
   "language": "python",
   "name": "smmdadp"
  },
  "language_info": {
   "codemirror_mode": {
    "name": "ipython",
    "version": 3
   },
   "file_extension": ".py",
   "mimetype": "text/x-python",
   "name": "python",
   "nbconvert_exporter": "python",
   "pygments_lexer": "ipython3",
   "version": "3.9.13"
  },
  "toc": {
   "base_numbering": 1,
   "nav_menu": {},
   "number_sections": true,
   "sideBar": true,
   "skip_h1_title": false,
   "title_cell": "Table of Contents",
   "title_sidebar": "Contents",
   "toc_cell": false,
   "toc_position": {
    "height": "calc(100% - 180px)",
    "left": "10px",
    "top": "150px",
    "width": "279.269px"
   },
   "toc_section_display": true,
   "toc_window_display": false
  },
  "varInspector": {
   "cols": {
    "lenName": 16,
    "lenType": 16,
    "lenVar": 40
   },
   "kernels_config": {
    "python": {
     "delete_cmd_postfix": "",
     "delete_cmd_prefix": "del ",
     "library": "var_list.py",
     "varRefreshCmd": "print(var_dic_list())"
    },
    "r": {
     "delete_cmd_postfix": ") ",
     "delete_cmd_prefix": "rm(",
     "library": "var_list.r",
     "varRefreshCmd": "cat(var_dic_list()) "
    }
   },
   "types_to_exclude": [
    "module",
    "function",
    "builtin_function_or_method",
    "instance",
    "_Feature"
   ],
   "window_display": false
  }
 },
 "nbformat": 4,
 "nbformat_minor": 4
}
